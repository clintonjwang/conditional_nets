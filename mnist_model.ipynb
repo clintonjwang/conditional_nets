{
 "cells": [
  {
   "cell_type": "code",
   "execution_count": 203,
   "metadata": {},
   "outputs": [],
   "source": [
    "import scipy.stats as stats\n",
    "import numpy as np\n",
    "import matplotlib.pyplot as plt\n",
    "%matplotlib inline\n",
    "from matplotlib.colors import LinearSegmentedColormap\n",
    "from matplotlib.collections import PatchCollection\n",
    "from matplotlib.patches import Circle, Ellipse\n",
    "from matplotlib import cm\n",
    "import matplotlib.colors as colors\n",
    "import matplotlib as mpl\n",
    "\n",
    "from scipy.special import gamma, polygamma\n",
    "\n",
    "import sympy\n",
    "from sympy.stats import Beta, density, E, variance\n",
    "from sympy import Symbol, simplify, pprint, expand_func, S, pi, Matrix, Array, symbols, IndexedBase, Idx, lambdify\n",
    "from sympy import Sum, Integral, IndexedBase, Function\n",
    "from sympy.stats import Expectation\n",
    "\n",
    "import itertools\n",
    "import scipy.optimize\n",
    "\n",
    "from joblib import Parallel, delayed\n",
    "import multiprocessing\n",
    "\n",
    "num_cores = multiprocessing.cpu_count() - 2\n",
    "\n",
    "import seaborn as sns\n",
    "\n",
    "import importlib\n",
    "import data_loader as dl\n",
    "import networks as netx"
   ]
  },
  {
   "cell_type": "markdown",
   "metadata": {},
   "source": [
    "beta bernoulli distribution \n",
    "import sympy.functions.special.beta_functions as beta_func\n",
    "beta_func.beta()"
   ]
  },
  {
   "cell_type": "code",
   "execution_count": 53,
   "metadata": {},
   "outputs": [],
   "source": [
    "from torch import relu\n",
    "import torch\n",
    "from torch.nn.parameter import Parameter\n",
    "import torch.distributions.beta\n",
    "import torch.nn.functional as F\n",
    "import torch.utils.data as data\n",
    "from torchvision import datasets, transforms\n",
    "nn = torch.nn"
   ]
  },
  {
   "cell_type": "code",
   "execution_count": 3,
   "metadata": {},
   "outputs": [],
   "source": [
    "import warnings\n",
    "warnings.filterwarnings(\"ignore\")"
   ]
  },
  {
   "cell_type": "markdown",
   "metadata": {},
   "source": [
    "# Generate data"
   ]
  },
  {
   "cell_type": "code",
   "execution_count": 211,
   "metadata": {},
   "outputs": [
    {
     "data": {
      "text/plain": [
       "<module 'data_loader' from '/data/vision/polina/users/clintonw/code/vision_final/data_loader.py'>"
      ]
     },
     "execution_count": 211,
     "metadata": {},
     "output_type": "execute_result"
    }
   ],
   "source": [
    "importlib.reload(netx)\n",
    "importlib.reload(dl)"
   ]
  },
  {
   "cell_type": "code",
   "execution_count": 212,
   "metadata": {},
   "outputs": [
    {
     "name": "stdout",
     "output_type": "stream",
     "text": [
      "Downloading http://yann.lecun.com/exdb/mnist/train-images-idx3-ubyte.gz\n",
      "Downloading http://yann.lecun.com/exdb/mnist/train-labels-idx1-ubyte.gz\n",
      "Downloading http://yann.lecun.com/exdb/mnist/t10k-images-idx3-ubyte.gz\n",
      "Downloading http://yann.lecun.com/exdb/mnist/t10k-labels-idx1-ubyte.gz\n",
      "Processing...\n",
      "Done!\n"
     ]
    }
   ],
   "source": [
    "dtype = torch.float\n",
    "K = 50\n",
    "M = 1024\n",
    "\n",
    "Tx = transforms.Compose([transforms.ToTensor(), transforms.Normalize((0.1307,), (0.3081,))])\n",
    "\n",
    "train_loader = data.DataLoader(dl.Custom_Mnist_Dataset('../data', train=True, refresh=True,\n",
    "                       transform=Tx), batch_size=M, shuffle=True, pin_memory=True)\n",
    "\n",
    "test_loader = data.DataLoader(dl.Custom_Mnist_Dataset('../data', train=False, refresh=False,\n",
    "                       transform=Tx), batch_size=M, shuffle=True, pin_memory=True)\n",
    "\n",
    "h = train_loader.dataset.huy[:,0].numpy()\n",
    "u = train_loader.dataset.huy[:,1].numpy()\n",
    "y_noiseless_train = np.round((h + np.round(u*9))/3)\n",
    "h = test_loader.dataset.huy[:,0].numpy()\n",
    "u = test_loader.dataset.huy[:,1].numpy()\n",
    "y_noiseless_test = np.round((h + np.round(u*9))/3)\n",
    "\n",
    "N = y_noiseless_train.shape[0]"
   ]
  },
  {
   "cell_type": "markdown",
   "metadata": {},
   "source": [
    "\n",
    "y = torch.tensor(y_train, dtype=dtype).cuda()\n",
    "u = torch.tensor(u_train, dtype=dtype).cuda()\n",
    "model = MixModel(K).cuda()\n",
    "par_model = torch.nn.DataParallel(model, device_ids=[0,1,2,3])\n",
    "\n",
    "clipper = ProbClipper()\n",
    "optimizer = torch.optim.Adam(model.parameters(), lr=1e-3)\n",
    "yu = torch.stack([y,u], 1)"
   ]
  },
  {
   "cell_type": "markdown",
   "metadata": {},
   "source": [
    "## Naive CNN"
   ]
  },
  {
   "cell_type": "code",
   "execution_count": 194,
   "metadata": {},
   "outputs": [],
   "source": [
    "model = netx.NaiveCNN(K).cuda()\n",
    "par_model = torch.nn.DataParallel(model, device_ids=[0,1,2,3])\n",
    "\n",
    "optimizer = torch.optim.Adam(model.parameters(), lr=.005)\n",
    "epochs = 50\n",
    "loss_fn = nn.modules.loss.CrossEntropyLoss()\n",
    "for epoch in range(epochs):\n",
    "    for batch_idx, (imgs, huy) in enumerate(train_loader):\n",
    "        imgs, huy = imgs.cuda().float(), huy.cuda()\n",
    "        loss = loss_fn(par_model(imgs, huy[:,1:].float()), huy[:,-1].long())\n",
    "        optimizer.zero_grad()\n",
    "        loss.backward()\n",
    "        optimizer.step()\n",
    "        \n",
    "        if batch_idx % 20 == 0:\n",
    "            print('Train Epoch: {} [{}/{} ({:.0f}%)]\\tLoss: {:.6f}'.format(\n",
    "                epoch, batch_idx * M, len(train_loader.dataset),\n",
    "                100. * batch_idx / len(train_loader), loss.item()))"
   ]
  },
  {
   "cell_type": "markdown",
   "metadata": {},
   "source": [
    "## MixModelCNN"
   ]
  },
  {
   "cell_type": "code",
   "execution_count": null,
   "metadata": {},
   "outputs": [],
   "source": [
    "model = netx.MixModelCNN(K).cuda()\n",
    "par_model = torch.nn.DataParallel(model, device_ids=[0,1,2,3])\n",
    "optimizer = torch.optim.Adam(model.parameters(), lr=.005)\n",
    "epochs = 50\n",
    "for epoch in range(epochs):\n",
    "    for batch_idx, (imgs, huy) in enumerate(train_loader):\n",
    "        imgs, huy = imgs.cuda(), huy.cuda()\n",
    "        loss = par_model(imgs, huy[:,1:]).sum()\n",
    "        optimizer.zero_grad()\n",
    "        loss.backward()\n",
    "        optimizer.step()\n",
    "        \n",
    "        if batch_idx % 20 == 0:\n",
    "            print('Train Epoch: {} [{}/{} ({:.0f}%)]\\tLoss: {:.6f}'.format(\n",
    "                epoch, batch_idx * M, len(train_loader.dataset),\n",
    "                100. * batch_idx / len(train_loader), loss.item()))"
   ]
  },
  {
   "cell_type": "markdown",
   "metadata": {},
   "source": [
    "del optimizer\n",
    "torch.cuda.empty_cache()"
   ]
  },
  {
   "cell_type": "code",
   "execution_count": 145,
   "metadata": {},
   "outputs": [],
   "source": []
  },
  {
   "cell_type": "code",
   "execution_count": 169,
   "metadata": {},
   "outputs": [
    {
     "name": "stdout",
     "output_type": "stream",
     "text": [
      "Mean deviation: 1.738/0.105\n",
      "Accuracy: 17.5%/89.5%\n"
     ]
    }
   ],
   "source": [
    "x = train_loader.dataset.imgs.float().cuda()\n",
    "u = train_loader.dataset.huy[:,1].float().cuda()\n",
    "y = train_loader.dataset.huy[:,-1].numpy()\n",
    "true_dev = np.abs(np.round(y*6) - y_noiseless_train).sum()/y_train.size\n",
    "true_acc = (np.round(y*6) == y_noiseless_train).sum()/y_train.size\n",
    "\n",
    "p_Y_UX = model.classify(x, u)\n",
    "Y_pred = p_Y_UX.max(1)[1].cpu().numpy()\n",
    "avg_dev = np.abs(np.round(y*6) - Y_pred).sum()/y_train.size\n",
    "avg_acc = (np.round(y*6) == Y_pred).sum()/y_train.size\n",
    "\n",
    "print(\"Mean deviation: %.3f/%.3f\" % (avg_dev, true_dev))\n",
    "print(\"Accuracy: %.1f%%/%.1f%%\" % (avg_acc*100, true_acc*100))"
   ]
  },
  {
   "cell_type": "code",
   "execution_count": 170,
   "metadata": {},
   "outputs": [
    {
     "name": "stdout",
     "output_type": "stream",
     "text": [
      "Mean deviation: 1.741/0.110\n",
      "Accuracy: 16.9%/89.0%\n"
     ]
    }
   ],
   "source": [
    "x = test_loader.dataset.imgs.float().cuda()\n",
    "u = test_loader.dataset.huy[:,1].float().cuda()\n",
    "y = test_loader.dataset.huy[:,-1].numpy()\n",
    "true_dev = np.abs(np.round(y*6) - y_noiseless_test).sum()/y_test.size\n",
    "true_acc = (np.round(y*6) == y_noiseless_test).sum()/y_test.size\n",
    "\n",
    "p_Y_UX = classify(model, x, u)\n",
    "Y_pred = p_Y_UX.max(1)[1].cpu().numpy()\n",
    "avg_dev = np.abs(np.round(y*6) - Y_pred).sum()/y_test.size\n",
    "avg_acc = (np.round(y*6) == Y_pred).sum()/y_test.size\n",
    "\n",
    "print(\"Mean deviation: %.3f/%.3f\" % (avg_dev, true_dev))\n",
    "print(\"Accuracy: %.1f%%/%.1f%%\" % (avg_acc*100, true_acc*100))"
   ]
  },
  {
   "cell_type": "code",
   "execution_count": 177,
   "metadata": {},
   "outputs": [],
   "source": [
    "cuda_to_np = lambda x: torch.exp(x).detach().cpu().numpy()[0]\n",
    "a1 = cuda_to_np(model.a_u)\n",
    "a2 = cuda_to_np(model.a_y)\n",
    "b1 = cuda_to_np(model.b_u)\n",
    "b2 = cuda_to_np(model.b_y)\n",
    "p_z = cuda_to_np(model.p_z)"
   ]
  },
  {
   "cell_type": "markdown",
   "metadata": {
    "heading_collapsed": true
   },
   "source": [
    "## EM"
   ]
  },
  {
   "cell_type": "code",
   "execution_count": 588,
   "metadata": {
    "hidden": true
   },
   "outputs": [],
   "source": [
    "K = 50"
   ]
  },
  {
   "cell_type": "code",
   "execution_count": 6,
   "metadata": {
    "hidden": true
   },
   "outputs": [],
   "source": [
    "a_y = IndexedBase(\"a_y\", K, positive=True)\n",
    "b_y = IndexedBase(\"b_y\", K, positive=True)\n",
    "a_u = IndexedBase(\"a_u\", K, positive=True)\n",
    "b_u = IndexedBase(\"b_u\", K, positive=True)\n",
    "P_z = IndexedBase(\"P_z\", K, positive=True)\n",
    "y = Symbol(\"y\", positive=True)\n",
    "u = Symbol(\"u\", positive=True)\n",
    "i = Idx(\"i\", K)\n",
    "k_sym = Idx(\"k\", K)\n",
    "\n",
    "f_YU = density(sympy.stats.Beta('fY', sympy.exp(a_y[i]), sympy.exp(b_y[i])))(y) * density(\n",
    "                sympy.stats.Beta('fU', sympy.exp(a_u[i]), sympy.exp(b_u[i])))(u)\n",
    "f_YU_k = density(sympy.stats.Beta('fY_k', sympy.exp(a_y[k_sym]), sympy.exp(b_y[k_sym])))(y) * density(\n",
    "                sympy.stats.Beta('fU_k', sympy.exp(a_u[k_sym]), sympy.exp(b_u[k_sym])))(u)\n",
    "\n",
    "dP_da_k = P_z[k_sym]*f_YU_k.diff(a_y[k_sym])/Sum(P_z[i]*f_YU, (i,0,K-1))\n",
    "dP_da_k_py = lambdify((a_y, b_y, a_u, b_u, P_z, y, k_sym), dP_da_k)\n",
    "\n",
    "dP_db_k = P_z[k_sym]*f_YU_k.diff(b_y[k_sym])/Sum(P_z[i]*f_YU, (i,0,K-1))\n",
    "dP_db_k_py = lambdify((a_y, b_y, a_u, b_u, P_z, y, k_sym), dP_db_k)\n",
    "\n",
    "dP_dpz_k = f_YU_k/Sum(P_z[i]*f_YU, (i,0,K-1))\n",
    "dP_dpz_k_py = lambdify((a_y, b_y, a_u, b_u, P_z, y, k_sym), dP_dpz_k)\n",
    "\n",
    "log_ll = sympy.log(Sum(P_z[i]*f_YU, (i,0,K-1)))\n",
    "log_ll_py = lambdify((a_y, b_y, a_u, b_u, P_z, y), log_ll)"
   ]
  },
  {
   "cell_type": "markdown",
   "metadata": {
    "hidden": true
   },
   "source": [
    "dll_da_k = lambdify((a_y, b_y, a_u, b_u, P_z, y, k_sym), log_ll.diff(a_y[k_sym]), modules='sympy')\n",
    "dll_db_k = lambdify((a_y, b_y, a_u, b_u, P_z, y, k_sym), log_ll.diff(b_y[k_sym]), modules='sympy')\n",
    "dll_dpz_k = lambdify((a_y, b_y, a_u, b_u, P_z, y, k_sym), log_ll.diff(P_z[k_sym]), modules='sympy')"
   ]
  },
  {
   "cell_type": "markdown",
   "metadata": {
    "hidden": true
   },
   "source": [
    "def processInput(k):\n",
    "    return dll_da_k(alphas, betas, p_z, y_train, k), dll_db_k(alphas, betas, p_z, y_train, k), dll_dpz_k(alphas, betas, p_z, y_train, k)"
   ]
  },
  {
   "cell_type": "code",
   "execution_count": null,
   "metadata": {
    "hidden": true
   },
   "outputs": [],
   "source": [
    "def processInput(k, bounds = (.05,50)):\n",
    "    dP_dpz_k_sum = lambda pz: np.sum(dP_dpz_k_py(alphas, betas, p_z[:k] + [pz] + p_z[k:], y_train, k)) - N\n",
    "    dP_da_k_sum = lambda a: np.sum(dP_da_k_py(alphas[:k] + [a] + alphas[k:], betas, p_z, y_train, k))\n",
    "    dP_db_k_sum = lambda b: np.sum(dP_db_k_py(alphas, betas[:k] + [b] + betas[k:], p_z, y_train, k))\n",
    "    dP_dpz_k_sq = lambda pz: dP_dpz_k_sum(pz)**2\n",
    "    dP_da_k_sq = lambda a: dP_da_k_sum(a)**2\n",
    "    dP_db_k_sq = lambda b: dP_db_k_sum(b)**2\n",
    "\n",
    "    try:                         \n",
    "        a_est = np.exp(scipy.optimize.brentq(dP_da_k_sum))#, a=bounds[0], b=bounds[1], disp=False)\n",
    "    except ValueError:\n",
    "        a_est = np.exp(scipy.optimize.minimize_scalar(dP_da_k_sq).x)#, bounds=bounds, method='Bounded').x\n",
    "    #alphas[k] = scipy.optimize.broyden1(dP_da_k_sum, [alphas[k]])[0]\n",
    "    print(\".\",end=\"\")\n",
    "\n",
    "    try:\n",
    "        b_est = np.exp(scipy.optimize.brentq(dP_db_k_sum))#, a=bounds[0], b=bounds[1], disp=False)\n",
    "    except ValueError:\n",
    "        b_est = np.exp(scipy.optimize.minimize_scalar(dP_db_k_sq).x)#, bounds=bounds, method='Bounded').x\n",
    "    print(\".\",end=\"\")\n",
    "\n",
    "    try:\n",
    "        p_z_est = scipy.optimize.brentq(dP_dpz_k_sum, a=0, b=1, disp=False)\n",
    "    except ValueError:\n",
    "        p_z_est = scipy.optimize.minimize_scalar(dP_dpz_k_sq, bounds=(0, 1), method='Bounded').x\n",
    "    print(\".\",end=\"\")\n",
    "    \n",
    "    return a_est, b_est, p_z_est"
   ]
  },
  {
   "cell_type": "code",
   "execution_count": null,
   "metadata": {
    "hidden": true
   },
   "outputs": [],
   "source": [
    "#initialization\n",
    "alphas = list(np.linspace(.1,6,K))\n",
    "betas = list(np.linspace(6,.1,K))\n",
    "p_z = list(np.ones(K)/K) #mixing coefficients\n",
    "\n",
    "patience = 3\n",
    "tol = .1\n",
    "ll_hist = [-10000]*patience\n",
    "\n",
    "a_est = np.zeros(K)\n",
    "b_est = np.zeros(K)\n",
    "p_z_est = np.zeros(K)\n",
    "\n",
    "for _ in range(iters):\n",
    "    lll = np.mean(log_ll_py(alphas, betas, p_z, y_train))\n",
    "    print(\"Mean Log Likelihood: %.2f\" % lll)\n",
    "    if np.max(lll - ll_hist[-patience:]) < tol:\n",
    "        break\n",
    "    \n",
    "    K_data = Parallel(n_jobs=num_cores)(delayed(processInput)(k) for k in range(K))\n",
    "    alphas, betas, p_z_est = zip(*K_data)\n",
    "    alphas = list(alphas)\n",
    "    betas = list(betas)\n",
    "    p_z = list(p_z_est/sum(p_z_est))\n",
    "    ll_hist = ll_hist + [lll]\n",
    "    \n",
    "ll_hist = ll_hist[patience:]"
   ]
  },
  {
   "cell_type": "markdown",
   "metadata": {},
   "source": [
    "## Plotting"
   ]
  },
  {
   "cell_type": "code",
   "execution_count": 171,
   "metadata": {},
   "outputs": [],
   "source": [
    "def plot_beta_pdf(a,b):\n",
    "    X = np.linspace(0.01,.99,1000)\n",
    "    Y = [stats.beta.pdf(X, a=a.detach().cpu().numpy()[0,i], b=b.detach().cpu().numpy()[0,i]) for i in range(K)]\n",
    "    [plt.plot(X,Y[i]) for i in range(K)];"
   ]
  },
  {
   "cell_type": "markdown",
   "metadata": {},
   "source": [
    "def plot_beta_2d_pdf(a1,b1,a2,b2):\n",
    "    cuda_to_np = lambda x: x.detach().cpu().numpy()[0]\n",
    "    a1 = cuda_to_np(a1)\n",
    "    a2 = cuda_to_np(a2)\n",
    "    b1 = cuda_to_np(b1)\n",
    "    b2 = cuda_to_np(b2)\n",
    "    \n",
    "    mu_X = stats.beta.mean(a1,b1)\n",
    "    mu_Y = stats.beta.mean(a2,b2)\n",
    "    var_X = stats.beta.var(a1,b1)\n",
    "    var_Y = stats.beta.var(a2,b2)\n",
    "    X = [np.linspace(mu_X[i]-var_X[i]**.5, mu_X[i]+var_X[i]**.5,1000) for i in range(K)]\n",
    "    Y = [np.concatenate([((1 - (X[i] - mu_X[i])**2/var_X[i]) * var_Y[i])**.5 + mu_Y[i], \n",
    "          -((1 - (X[i] - mu_X[i])**2/var_X[i]) * var_Y[i])**.5 + mu_Y[i]]) for i in range(K)]\n",
    "    X = [np.tile(X[i],2) for i in range(K)]\n",
    "    print(X[0].shape, Y[0].shape)\n",
    "    [plt.scatter(X[i],Y[i], marker='.') for i in range(K)];\n",
    "    #[plt.scatter(mu_X[i],mu_Y[i], marker='x') for i in range(K)];"
   ]
  },
  {
   "cell_type": "code",
   "execution_count": 174,
   "metadata": {},
   "outputs": [
    {
     "data": {
      "image/png": "[encoded data removed]",
      "text/plain": [
       "<Figure size 432x360 with 2 Axes>"
      ]
     },
     "metadata": {
      "needs_background": "light"
     },
     "output_type": "display_data"
    }
   ],
   "source": [
    "uy = train_loader.dataset.huy[:,1:].numpy()\n",
    "coords, freq = np.unique(uy, axis=0, return_counts=True)\n",
    "alpha_cm = LinearSegmentedColormap.from_list('transparent_cm', [(0,0,0,0), (0,0,0,1)])\n",
    "\n",
    "fig, ax = plt.subplots(figsize=(6,5))\n",
    "\n",
    "p_z = freq/freq.sum()\n",
    "patches = []\n",
    "for x1, y1, r in zip(coords[:,0], coords[:,1], p_z**.5):\n",
    "    circle = Circle((x1, y1), .02)#r/5) #.02\n",
    "    patches.append(circle)\n",
    "\n",
    "p = PatchCollection(patches)\n",
    "#p.set_color((.4,.4,.4))\n",
    "p.set_array(np.array(p_z))\n",
    "p.set_cmap(alpha_cm)\n",
    "p.set_clim(0, .05)\n",
    "ax.add_collection(p)\n",
    "fig.colorbar(p, ax=ax)\n",
    "plt.xticks(np.linspace(0,1,10), range(10))\n",
    "plt.yticks(np.linspace(0,1,7), range(7))\n",
    "plt.xlim(-.1,1.1)\n",
    "plt.ylim(-.1,1.1)\n",
    "plt.xlabel('U');\n",
    "plt.ylabel('Y');"
   ]
  },
  {
   "cell_type": "code",
   "execution_count": 175,
   "metadata": {},
   "outputs": [],
   "source": [
    "def plot_beta_2d_pdf(a1,b1,a2,b2, p_z=None):\n",
    "    a1 = cuda_to_np(a1)\n",
    "    b1 = cuda_to_np(b1)\n",
    "    a2 = cuda_to_np(a2)\n",
    "    b2 = cuda_to_np(b2)\n",
    "    mu_X = stats.beta.mean(a1,b1)\n",
    "    mu_Y = stats.beta.mean(a2,b2)\n",
    "    sig_X = stats.beta.var(a1,b1)**.5\n",
    "    sig_Y = stats.beta.var(a2,b2)**.5\n",
    "    \n",
    "    fig, ax = plt.subplots(figsize=(6,5))\n",
    "\n",
    "    patches = []\n",
    "    for x1, y1, rx, ry in zip(mu_X, mu_Y, sig_X, sig_Y):\n",
    "        ell = Ellipse((x1, y1), rx, ry)\n",
    "        patches.append(ell)\n",
    "\n",
    "    p = PatchCollection(patches)\n",
    "    \n",
    "    if p_z is not None:\n",
    "        p_z = cuda_to_np(p_z)\n",
    "        p.set_array(np.array(p_z/sig_X/sig_Y))\n",
    "        p.set_cmap(alpha_cm)\n",
    "        #p.set_clim(0, round(np.max(p_z/sig_X/sig_Y)))\n",
    "        \n",
    "    ax.add_collection(p)\n",
    "    if p_z is not None:\n",
    "        fig.colorbar(p, ax=ax)\n",
    "\n",
    "    plt.xlim(-.1,1.1)\n",
    "    plt.ylim(-.1,1.1)"
   ]
  },
  {
   "cell_type": "code",
   "execution_count": 178,
   "metadata": {
    "scrolled": true
   },
   "outputs": [
    {
     "data": {
      "image/png": "[encoded data removed]",
      "text/plain": [
       "<Figure size 432x360 with 2 Axes>"
      ]
     },
     "metadata": {
      "needs_background": "light"
     },
     "output_type": "display_data"
    }
   ],
   "source": [
    "plot_beta_2d_pdf(model.a_u, model.b_u, model.a_y, model.b_y, model.p_z)\n",
    "plt.xlabel('U');\n",
    "plt.ylabel('Y');"
   ]
  },
  {
   "cell_type": "code",
   "execution_count": 179,
   "metadata": {},
   "outputs": [],
   "source": [
    "def plot_beta_2d_pdf(a1,b1,a2,b2, p_z):\n",
    "    \n",
    "    R = 100\n",
    "    a1 = cuda_to_np(a1)\n",
    "    b1 = cuda_to_np(b1)\n",
    "    a2 = cuda_to_np(a2)\n",
    "    b2 = cuda_to_np(b2)\n",
    "    p_z = cuda_to_np(p_z)\n",
    "\n",
    "    X = np.linspace(0.01,.99,R)\n",
    "    Y = np.linspace(0.01,.99,R)\n",
    "    \n",
    "    fill_Z = lambda i,j: sum([p_z[k] * stats.beta.pdf(X[i], a1[k], b1[k]) * stats.beta.pdf(Y[j], a2[k], b2[k]) for k in range(K)])\n",
    "    Z = np.reshape(Parallel(n_jobs=num_cores)(delayed(fill_Z)(i,j) for (i,j) in itertools.product(range(R),range(R))), (R,R)).transpose((1,0))\n",
    "    \n",
    "    return Z\n",
    "    \"\"\"if p_z is not None:\n",
    "        p_z = cuda_to_np(p_z)\n",
    "        p.set_array(np.array(p_z))\n",
    "        p.set_cmap(alpha_cm)\n",
    "        p.set_clim(0, .04)\n",
    "        \n",
    "    ax.add_collection(p)\n",
    "    if p_z is not None:\n",
    "        fig.colorbar(p, ax=ax)\n",
    "\n",
    "    plt.xlim(-.1,1.1)\n",
    "    plt.ylim(-.1,1.1)\"\"\""
   ]
  },
  {
   "cell_type": "code",
   "execution_count": 180,
   "metadata": {},
   "outputs": [],
   "source": [
    "Z = plot_beta_2d_pdf(model.a_u, model.b_u, model.a_y, model.b_y, model.p_z)"
   ]
  },
  {
   "cell_type": "code",
   "execution_count": 184,
   "metadata": {
    "scrolled": true
   },
   "outputs": [
    {
     "data": {
      "image/png": "[encoded data removed]",
      "text/plain": [
       "<Figure size 432x432 with 2 Axes>"
      ]
     },
     "metadata": {
      "needs_background": "light"
     },
     "output_type": "display_data"
    }
   ],
   "source": [
    "fig, ax = plt.subplots(figsize=(6,6))\n",
    "ax.imshow(Z, cmap=alpha_cm, vmin=0, vmax=round(np.percentile(Z,99.8)), aspect=1.5, extent=[0,9,6,0])\n",
    "fig.colorbar(ax.get_children()[-2], ax=ax)\n",
    "plt.xlim(-.9,9.9)\n",
    "plt.ylim(-.6,6.6)\n",
    "\n",
    "plt.xlabel('U');\n",
    "plt.ylabel('Y');"
   ]
  },
  {
   "cell_type": "markdown",
   "metadata": {},
   "source": [
    "#initialize p_z to\n",
    "p_z = np.empty((N,K))\n",
    "for i in range(N):\n",
    "    p_z[i] = stats.beta.pdf(y_train[i], alphas, betas)\n",
    "    #z_pred = np.argmax(stats.beta.pdf(y_train(i), alphas, betas))"
   ]
  },
  {
   "cell_type": "markdown",
   "metadata": {},
   "source": [
    "### logit-normal dist\n",
    "sigma = Symbol(\"sigma\", positive=True)\n",
    "mu = Symbol(\"mu\", positive=True)\n",
    "y = Symbol(\"y\", positive=True)\n",
    "pdf = sympy.exp(-(sympy.log(y/(1-y)) - mu)**2/(2*sigma**2)) * (1/(y*(1-y))) / (sigma*(2*pi)**.5)\n",
    "\n",
    "dP_dy = pdf.diff(y).subs({sigma:1, mu:0})\n",
    "\n",
    "scipy.optimize.broyden2(lambdify(y, dP_dy), [0.3])"
   ]
  },
  {
   "cell_type": "code",
   "execution_count": null,
   "metadata": {},
   "outputs": [],
   "source": []
  },
  {
   "cell_type": "code",
   "execution_count": 118,
   "metadata": {},
   "outputs": [],
   "source": [
    "### beta distribution\n",
    "a_y = Symbol(\"a\", positive=True)\n",
    "b_y = Symbol(\"b\", positive=True)\n",
    "y = Symbol(\"y\", positive=True)\n",
    "Y = sympy.stats.Beta('Y', a_y, b_y)\n",
    "pdf = density(Y)(y)"
   ]
  },
  {
   "cell_type": "code",
   "execution_count": 119,
   "metadata": {},
   "outputs": [
    {
     "data": {
      "text/plain": [
       "y**(a - 1)*(-y + 1)**(b - 1)*(-polygamma(0, b) + polygamma(0, a + b))/beta(a, b) + y**(a - 1)*(-y + 1)**(b - 1)*log(-y + 1)/beta(a, b)"
      ]
     },
     "execution_count": 119,
     "metadata": {},
     "output_type": "execute_result"
    }
   ],
   "source": [
    "pdf.diff(b_y)"
   ]
  },
  {
   "cell_type": "code",
   "execution_count": 121,
   "metadata": {},
   "outputs": [],
   "source": [
    "dP_db = pdf.diff(b_y).subs({a_y:1, y:.5})"
   ]
  },
  {
   "cell_type": "code",
   "execution_count": null,
   "metadata": {},
   "outputs": [],
   "source": [
    "dP_da = pdf.diff(alpha).subs({beta:1, y:.5})"
   ]
  },
  {
   "cell_type": "code",
   "execution_count": 68,
   "metadata": {
    "scrolled": true
   },
   "outputs": [
    {
     "data": {
      "text/plain": [
       "array([1.44270175])"
      ]
     },
     "execution_count": 68,
     "metadata": {},
     "output_type": "execute_result"
    }
   ],
   "source": [
    "scipy.optimize.broyden1(lambdify(b_y, dP_db), [1])"
   ]
  },
  {
   "cell_type": "code",
   "execution_count": null,
   "metadata": {},
   "outputs": [],
   "source": [
    "Z = np.sum()"
   ]
  },
  {
   "cell_type": "code",
   "execution_count": null,
   "metadata": {},
   "outputs": [],
   "source": [
    "p_ab_z"
   ]
  },
  {
   "cell_type": "code",
   "execution_count": 94,
   "metadata": {},
   "outputs": [
    {
     "data": {
      "text/plain": [
       "9"
      ]
     },
     "execution_count": 94,
     "metadata": {},
     "output_type": "execute_result"
    }
   ],
   "source": [
    "np.argmax(stats.beta.pdf(.5, alphas, betas))"
   ]
  },
  {
   "cell_type": "code",
   "execution_count": null,
   "metadata": {},
   "outputs": [],
   "source": []
  },
  {
   "cell_type": "code",
   "execution_count": null,
   "metadata": {},
   "outputs": [],
   "source": [
    "stats.invgamma.pdf()"
   ]
  },
  {
   "cell_type": "code",
   "execution_count": null,
   "metadata": {},
   "outputs": [],
   "source": [
    "#random init\n",
    "stats.invgamma.rvs(a=1, scale=1)"
   ]
  },
  {
   "cell_type": "code",
   "execution_count": null,
   "metadata": {},
   "outputs": [],
   "source": [
    "objective = np.sum(np.log(np.sum))"
   ]
  },
  {
   "cell_type": "code",
   "execution_count": null,
   "metadata": {},
   "outputs": [],
   "source": [
    "p_u_z = stats.beta.pdf(U, a, b)"
   ]
  },
  {
   "cell_type": "markdown",
   "metadata": {},
   "source": [
    "# Neural network"
   ]
  },
  {
   "cell_type": "code",
   "execution_count": 5,
   "metadata": {},
   "outputs": [],
   "source": [
    "def neg_ll(y_obs, p_z, alpha, beta):\n",
    "    # p_z_pred are the predicted categorical distributions over z in 1...K\n",
    "    # y_obs are the ground truth values of y\n",
    "    p_y_obs = tf.zeros_like(y_obs)\n",
    "    \n",
    "    for z in range(1,K):\n",
    "        p_y_z = tf.distributions.Beta(alpha[z], beta[z]).prob\n",
    "        p_y_obs += p_y_z(y_obs) * p_z[z]\n",
    "\n",
    "    return tf.reduce_mean(1-p_y_obs)\n",
    "\n",
    "\n",
    "def mll_loss(a,b):\n",
    "    def foo(y_obs, p_z):\n",
    "        return neg_ll(y_obs, p_z, a,b)\n",
    "    return foo"
   ]
  },
  {
   "cell_type": "code",
   "execution_count": null,
   "metadata": {},
   "outputs": [],
   "source": []
  },
  {
   "cell_type": "code",
   "execution_count": null,
   "metadata": {},
   "outputs": [],
   "source": []
  },
  {
   "cell_type": "code",
   "execution_count": 28,
   "metadata": {},
   "outputs": [],
   "source": [
    "N, D_in, H, D_out = 64, 1000, 100, 10"
   ]
  },
  {
   "cell_type": "code",
   "execution_count": 82,
   "metadata": {},
   "outputs": [],
   "source": [
    "x = torch.randn(N, D_in).cuda()\n",
    "y = torch.randn(N, D_out).cuda()\n",
    "\n",
    "model = DynamicNet(D_in, H, D_out).cuda()\n",
    "loss_fn = torch.nn.MSELoss(reduction='sum').cuda()\n",
    "\n",
    "learning_rate = 1e-4\n",
    "optimizer = torch.optim.Adam(model.parameters(), lr=learning_rate)"
   ]
  },
  {
   "cell_type": "code",
   "execution_count": 83,
   "metadata": {
    "scrolled": true
   },
   "outputs": [
    {
     "name": "stdout",
     "output_type": "stream",
     "text": [
      "0 670.4612426757812\n",
      "1 662.5904541015625\n",
      "2 661.0430908203125\n",
      "3 690.8719482421875\n",
      "4 659.1820068359375\n",
      "5 651.6021118164062\n",
      "6 661.22802734375\n",
      "7 662.5198974609375\n",
      "8 660.832275390625\n",
      "9 643.1038208007812\n",
      "10 640.7529907226562\n",
      "11 637.8424072265625\n",
      "12 634.5338134765625\n",
      "13 630.9481201171875\n",
      "14 654.0599365234375\n",
      "15 618.405517578125\n",
      "16 621.03173828125\n",
      "17 659.3185424804688\n",
      "18 659.1572875976562\n",
      "19 612.6932373046875\n",
      "20 651.6414794921875\n",
      "21 651.145751953125\n",
      "22 650.52197265625\n",
      "23 603.0089721679688\n",
      "24 658.1094970703125\n",
      "25 581.2460327148438\n",
      "26 657.7459106445312\n",
      "27 572.1170043945312\n",
      "28 565.6786499023438\n",
      "29 592.3092041015625\n",
      "30 550.5504150390625\n",
      "31 542.1099243164062\n",
      "32 532.63916015625\n",
      "33 656.635498046875\n",
      "34 586.5438842773438\n",
      "35 656.3221435546875\n",
      "36 644.565185546875\n",
      "37 582.7321166992188\n",
      "38 643.6776733398438\n",
      "39 481.3653259277344\n",
      "40 642.5662841796875\n",
      "41 641.8989868164062\n",
      "42 641.1127319335938\n",
      "43 574.924560546875\n",
      "44 639.3850708007812\n",
      "45 452.49346923828125\n",
      "46 654.23486328125\n",
      "47 654.0054931640625\n",
      "48 636.015380859375\n",
      "49 435.3723449707031\n",
      "50 430.4256286621094\n",
      "51 565.8556518554688\n",
      "52 419.15032958984375\n",
      "53 563.4110717773438\n",
      "54 561.7347412109375\n",
      "55 652.0686645507812\n",
      "56 630.4584350585938\n",
      "57 555.7940063476562\n",
      "58 391.2281494140625\n",
      "59 386.7158508300781\n",
      "60 650.6990356445312\n",
      "61 650.4033813476562\n",
      "62 650.0606079101562\n",
      "63 545.248291015625\n",
      "64 649.2922973632812\n",
      "65 624.718505859375\n",
      "66 539.792724609375\n",
      "67 648.0020751953125\n",
      "68 622.403076171875\n",
      "69 647.0516357421875\n",
      "70 646.531982421875\n",
      "71 645.9755859375\n",
      "72 645.3862915039062\n",
      "73 346.8222961425781\n",
      "74 644.2086181640625\n",
      "75 643.6136474609375\n",
      "76 642.9862670898438\n",
      "77 522.8950805664062\n",
      "78 614.3432006835938\n",
      "79 613.3748168945312\n",
      "80 333.60089111328125\n",
      "81 611.169189453125\n",
      "82 639.198974609375\n",
      "83 608.7561645507812\n",
      "84 324.72259521484375\n",
      "85 606.1808471679688\n",
      "86 604.7861328125\n",
      "87 509.9758605957031\n",
      "88 508.2320556640625\n",
      "89 505.8933410644531\n",
      "90 634.1514282226562\n",
      "91 633.4459838867188\n",
      "92 307.86114501953125\n",
      "93 495.87713623046875\n",
      "94 493.1944580078125\n",
      "95 490.0545654296875\n",
      "96 629.9102783203125\n",
      "97 629.1458740234375\n",
      "98 588.9740600585938\n",
      "99 294.8896484375\n",
      "100 292.36700439453125\n",
      "101 585.0370483398438\n",
      "102 470.7481384277344\n",
      "103 624.3956909179688\n",
      "104 623.5263671875\n",
      "105 278.25341796875\n",
      "106 274.9772644042969\n",
      "107 620.8916015625\n",
      "108 575.6734008789062\n",
      "109 263.98016357421875\n",
      "110 572.8588256835938\n",
      "111 452.9183349609375\n",
      "112 450.72076416015625\n",
      "113 250.26072692871094\n",
      "114 246.6064910888672\n",
      "115 242.29605102539062\n",
      "116 564.05224609375\n",
      "117 612.2886352539062\n",
      "118 561.0121459960938\n",
      "119 435.69805908203125\n",
      "120 223.0304718017578\n",
      "121 219.36639404296875\n",
      "122 428.93115234375\n",
      "123 426.31378173828125\n",
      "124 605.720703125\n",
      "125 205.34881591796875\n",
      "126 603.6770629882812\n",
      "127 602.5316162109375\n",
      "128 412.80792236328125\n",
      "129 543.3350219726562\n",
      "130 541.3703002929688\n",
      "131 189.44175720214844\n",
      "132 595.7449340820312\n",
      "133 399.5725402832031\n",
      "134 182.43606567382812\n",
      "135 531.0194091796875\n",
      "136 177.34422302246094\n",
      "137 526.80810546875\n",
      "138 587.1565551757812\n",
      "139 522.14013671875\n",
      "140 583.8021240234375\n",
      "141 581.906494140625\n",
      "142 163.9355926513672\n",
      "143 511.9535827636719\n",
      "144 375.0648193359375\n",
      "145 506.69671630859375\n",
      "146 572.142333984375\n",
      "147 367.6981201171875\n",
      "148 498.14337158203125\n",
      "149 361.83624267578125\n",
      "150 563.5355834960938\n",
      "151 561.20849609375\n",
      "152 352.2595520019531\n",
      "153 348.7687683105469\n",
      "154 553.9598388671875\n",
      "155 477.7137145996094\n",
      "156 474.5801086425781\n",
      "157 147.82029724121094\n",
      "158 331.57843017578125\n",
      "159 541.4698486328125\n",
      "160 144.89434814453125\n",
      "161 536.6432495117188\n",
      "162 141.9922637939453\n",
      "163 140.00653076171875\n",
      "164 137.4915008544922\n",
      "165 527.9534912109375\n",
      "166 525.7987060546875\n",
      "167 523.3724975585938\n",
      "168 520.708740234375\n",
      "169 305.688232421875\n",
      "170 303.29571533203125\n",
      "171 436.2785339355469\n",
      "172 509.6632385253906\n",
      "173 120.90689849853516\n",
      "174 119.30106353759766\n",
      "175 290.2386474609375\n",
      "176 115.3986587524414\n",
      "177 285.09149169921875\n",
      "178 419.16302490234375\n",
      "179 492.9422607421875\n",
      "180 107.97932434082031\n",
      "181 411.49896240234375\n",
      "182 485.68084716796875\n",
      "183 405.7298278808594\n",
      "184 402.4340515136719\n",
      "185 477.0240783691406\n",
      "186 473.75274658203125\n",
      "187 470.2259216308594\n",
      "188 466.4761962890625\n",
      "189 384.4586486816406\n",
      "190 97.43370056152344\n",
      "191 455.10308837890625\n",
      "192 373.7769470214844\n",
      "193 95.02571868896484\n",
      "194 247.61785888671875\n",
      "195 363.4971618652344\n",
      "196 91.99597930908203\n",
      "197 356.79156494140625\n",
      "198 431.7901916503906\n",
      "199 349.8150634765625\n",
      "200 425.0108337402344\n",
      "201 342.28326416015625\n",
      "202 231.6358184814453\n",
      "203 86.16597747802734\n",
      "204 410.87744140625\n",
      "205 407.37908935546875\n",
      "206 403.57354736328125\n",
      "207 399.49591064453125\n",
      "208 82.92047119140625\n",
      "209 391.37896728515625\n",
      "210 215.70156860351562\n",
      "211 80.66694641113281\n",
      "212 380.1199035644531\n",
      "213 302.49493408203125\n",
      "214 207.6134490966797\n",
      "215 369.2420959472656\n",
      "216 293.098876953125\n",
      "217 289.6343994140625\n",
      "218 285.88946533203125\n",
      "219 281.9107666015625\n",
      "220 277.7458801269531\n",
      "221 191.52330017089844\n",
      "222 342.6681213378906\n",
      "223 265.35577392578125\n",
      "224 261.17041015625\n",
      "225 330.84979248046875\n",
      "226 252.5852508544922\n",
      "227 77.24908447265625\n",
      "228 318.5931091308594\n",
      "229 174.14535522460938\n",
      "230 171.87156677246094\n",
      "231 169.0959930419922\n",
      "232 230.5029754638672\n",
      "233 227.11166381835938\n",
      "234 297.2153015136719\n",
      "235 293.44219970703125\n",
      "236 289.3043518066406\n",
      "237 153.09397888183594\n",
      "238 209.60035705566406\n",
      "239 148.15606689453125\n",
      "240 202.89781188964844\n",
      "241 142.78858947753906\n",
      "242 80.73941040039062\n",
      "243 263.3453369140625\n",
      "244 134.96261596679688\n",
      "245 257.0500793457031\n",
      "246 185.4555206298828\n",
      "247 127.74076080322266\n",
      "248 125.226806640625\n",
      "249 80.69322204589844\n",
      "250 175.2829132080078\n",
      "251 172.9027557373047\n",
      "252 79.15190124511719\n",
      "253 113.9095458984375\n",
      "254 232.73915100097656\n",
      "255 163.7623291015625\n",
      "256 75.81185913085938\n",
      "257 74.55741882324219\n",
      "258 72.67996978759766\n",
      "259 156.041748046875\n",
      "260 220.17474365234375\n",
      "261 66.70946502685547\n",
      "262 150.78573608398438\n",
      "263 62.91936492919922\n",
      "264 60.79997634887695\n",
      "265 146.08914184570312\n",
      "266 208.75674438476562\n",
      "267 206.46768188476562\n",
      "268 53.383033752441406\n",
      "269 98.32319641113281\n",
      "270 138.07919311523438\n",
      "271 136.41824340820312\n",
      "272 48.209999084472656\n",
      "273 95.38984680175781\n",
      "274 94.2639389038086\n",
      "275 92.71926879882812\n",
      "276 188.4624481201172\n",
      "277 186.60128784179688\n",
      "278 125.79427337646484\n",
      "279 124.03541564941406\n",
      "280 42.92116928100586\n",
      "281 42.41321563720703\n",
      "282 83.46882629394531\n",
      "283 82.25428009033203\n",
      "284 172.84274291992188\n",
      "285 170.97984313964844\n",
      "286 39.66128921508789\n",
      "287 39.07160949707031\n",
      "288 38.18189239501953\n",
      "289 37.039573669433594\n",
      "290 162.46205139160156\n",
      "291 109.35812377929688\n",
      "292 33.719871520996094\n",
      "293 32.62841796875\n",
      "294 31.37639808654785\n",
      "295 105.95040893554688\n",
      "296 105.03617858886719\n",
      "297 103.85907745361328\n",
      "298 152.20077514648438\n",
      "299 73.35396575927734\n",
      "300 99.71112060546875\n",
      "301 72.13755798339844\n",
      "302 71.12129211425781\n",
      "303 25.466337203979492\n",
      "304 25.10202407836914\n",
      "305 93.7724380493164\n",
      "306 24.14314842224121\n",
      "307 91.8372573852539\n",
      "308 23.10625457763672\n",
      "309 140.40182495117188\n",
      "310 64.28836059570312\n",
      "311 63.477596282958984\n",
      "312 136.56488037109375\n",
      "313 86.04326629638672\n",
      "314 60.61064910888672\n",
      "315 59.50366973876953\n",
      "316 131.01461791992188\n",
      "317 129.5047149658203\n",
      "318 127.61202239990234\n",
      "319 21.752634048461914\n",
      "320 21.76700782775879\n",
      "321 121.93577575683594\n",
      "322 53.917823791503906\n",
      "323 53.231483459472656\n",
      "324 116.98411560058594\n",
      "325 115.26669311523438\n",
      "326 73.86840057373047\n",
      "327 21.913599014282227\n",
      "328 109.87016296386719\n",
      "329 49.43723678588867\n",
      "330 21.973657608032227\n",
      "331 69.22008514404297\n",
      "332 21.698957443237305\n",
      "333 47.472389221191406\n",
      "334 102.20193481445312\n",
      "335 20.970380783081055\n",
      "336 45.86037063598633\n",
      "337 45.14578628540039\n",
      "338 64.64217376708984\n",
      "339 97.49267578125\n",
      "340 63.25373840332031\n",
      "341 42.08032989501953\n",
      "342 20.0366153717041\n",
      "343 40.58415603637695\n",
      "344 39.702598571777344\n",
      "345 59.75403594970703\n",
      "346 91.98828125\n",
      "347 91.06682586669922\n",
      "348 19.978940963745117\n",
      "349 56.71421432495117\n",
      "350 35.66910171508789\n",
      "351 86.87609100341797\n",
      "352 19.888219833374023\n",
      "353 34.316062927246094\n",
      "354 52.98949432373047\n",
      "355 33.2906494140625\n",
      "356 51.50602722167969\n",
      "357 19.629533767700195\n",
      "358 19.441802978515625\n",
      "359 31.281944274902344\n",
      "360 48.82917404174805\n",
      "361 30.307348251342773\n",
      "362 18.367151260375977\n",
      "363 47.18069839477539\n",
      "364 17.751392364501953\n",
      "365 79.48836517333984\n",
      "366 45.527286529541016\n",
      "367 44.84089279174805\n",
      "368 27.9934139251709\n",
      "369 43.355525970458984\n",
      "370 75.68084716796875\n",
      "371 41.761444091796875\n",
      "372 40.86347579956055\n",
      "373 39.86394119262695\n",
      "374 38.788368225097656\n",
      "375 70.85446166992188\n",
      "376 69.61483764648438\n",
      "377 35.67428970336914\n",
      "378 27.5155086517334\n",
      "379 65.35452270507812\n",
      "380 63.876686096191406\n",
      "381 18.873750686645508\n",
      "382 60.89337158203125\n",
      "383 59.40083694458008\n",
      "384 27.86576271057129\n",
      "385 56.423919677734375\n",
      "386 27.83724594116211\n"
     ]
    },
    {
     "name": "stdout",
     "output_type": "stream",
     "text": [
      "387 53.679134368896484\n",
      "388 52.29256820678711\n",
      "389 28.6053409576416\n",
      "390 21.011470794677734\n",
      "391 21.022382736206055\n",
      "392 27.71293067932129\n",
      "393 20.489789962768555\n",
      "394 27.321321487426758\n",
      "395 46.0142822265625\n",
      "396 19.233837127685547\n",
      "397 26.23712158203125\n",
      "398 26.442768096923828\n",
      "399 25.265541076660156\n",
      "400 43.429866790771484\n",
      "401 42.91234588623047\n",
      "402 23.767471313476562\n",
      "403 41.75527572631836\n",
      "404 17.146156311035156\n",
      "405 16.911483764648438\n",
      "406 25.56455421447754\n",
      "407 22.015493392944336\n",
      "408 24.979944229125977\n",
      "409 39.2034912109375\n",
      "410 15.48620891571045\n",
      "411 20.859378814697266\n",
      "412 38.25577926635742\n",
      "413 37.80916976928711\n",
      "414 20.075544357299805\n",
      "415 19.720869064331055\n",
      "416 14.54012393951416\n",
      "417 35.960453033447266\n",
      "418 22.701196670532227\n",
      "419 14.111820220947266\n",
      "420 13.848587989807129\n",
      "421 34.442665100097656\n",
      "422 21.839988708496094\n",
      "423 33.555885314941406\n",
      "424 21.10539436340332\n",
      "425 18.20099449157715\n",
      "426 18.121782302856445\n",
      "427 12.467421531677246\n",
      "428 12.280736923217773\n",
      "429 31.590530395507812\n",
      "430 19.39765739440918\n",
      "431 19.129606246948242\n",
      "432 30.383636474609375\n",
      "433 17.389965057373047\n",
      "434 18.213518142700195\n",
      "435 11.306676864624023\n",
      "436 17.068450927734375\n",
      "437 16.82671356201172\n",
      "438 11.022686004638672\n",
      "439 28.440933227539062\n",
      "440 15.893678665161133\n",
      "441 28.03510856628418\n",
      "442 16.871095657348633\n",
      "443 15.11540412902832\n",
      "444 16.42205238342285\n",
      "445 16.090124130249023\n",
      "446 10.727412223815918\n",
      "447 15.330985069274902\n",
      "448 10.628327369689941\n",
      "449 10.46728801727295\n",
      "450 14.384907722473145\n",
      "451 9.97729778289795\n",
      "452 9.662101745605469\n",
      "453 14.185927391052246\n",
      "454 8.949065208435059\n",
      "455 27.95703125\n",
      "456 13.790414810180664\n",
      "457 8.013323783874512\n",
      "458 14.139653205871582\n",
      "459 13.59919548034668\n",
      "460 13.524109840393066\n",
      "461 25.886734008789062\n",
      "462 25.56561279296875\n",
      "463 12.909225463867188\n",
      "464 7.013789176940918\n",
      "465 14.22614860534668\n",
      "466 24.194929122924805\n",
      "467 12.099893569946289\n",
      "468 14.227750778198242\n",
      "469 11.68038272857666\n",
      "470 11.416784286499023\n",
      "471 22.57711410522461\n",
      "472 10.835050582885742\n",
      "473 21.775306701660156\n",
      "474 7.298050403594971\n",
      "475 7.328686714172363\n",
      "476 7.266936779022217\n",
      "477 7.123222827911377\n",
      "478 10.034186363220215\n",
      "479 9.903654098510742\n",
      "480 19.74361801147461\n",
      "481 15.10530948638916\n",
      "482 19.061084747314453\n",
      "483 18.663982391357422\n",
      "484 18.154150009155273\n",
      "485 17.564332962036133\n",
      "486 15.168068885803223\n",
      "487 16.509353637695312\n",
      "488 15.121907234191895\n",
      "489 15.592422485351562\n",
      "490 14.863838195800781\n",
      "491 14.607851028442383\n",
      "492 14.209443092346191\n",
      "493 10.094364166259766\n",
      "494 10.010797500610352\n",
      "495 13.785666465759277\n",
      "496 7.6741943359375\n",
      "497 12.52380657196045\n",
      "498 9.418719291687012\n",
      "499 7.799966335296631\n"
     ]
    }
   ],
   "source": [
    "for t in range(500):\n",
    "    y_pred = model(x)\n",
    "    \n",
    "    loss = loss_fn(y_pred, y)\n",
    "    print(t, loss.item())\n",
    "    optimizer.zero_grad()\n",
    "    loss.backward()\n",
    "    \n",
    "    optimizer.step()"
   ]
  },
  {
   "cell_type": "code",
   "execution_count": 85,
   "metadata": {},
   "outputs": [],
   "source": [
    "from torch.utils.data import Dataset, DataLoader\n",
    "from torchvision import transforms, utils"
   ]
  },
  {
   "cell_type": "code",
   "execution_count": 81,
   "metadata": {},
   "outputs": [],
   "source": [
    "class DynamicNet(torch.nn.Module):\n",
    "    def __init__(self, D_in, H, D_out):\n",
    "        super(DynamicNet, self).__init__()\n",
    "        self.input_linear = torch.nn.Linear(D_in, H)\n",
    "        self.middle_linear = torch.nn.Linear(H, H)\n",
    "        self.output_linear = torch.nn.Linear(H, D_out)\n",
    "    \n",
    "    def forward(self, x):\n",
    "        h_relu = self.input_linear(x).clamp(min=0)\n",
    "        for _ in range(random.randint(0, 3)):\n",
    "            h_relu = self.middle_linear(h_relu).clamp(min=0)\n",
    "        y_pred = self.output_linear(h_relu)\n",
    "        return y_pred"
   ]
  },
  {
   "cell_type": "code",
   "execution_count": 52,
   "metadata": {},
   "outputs": [],
   "source": [
    "class MyReLU(torch.autograd.Function):\n",
    "    @staticmethod\n",
    "    def forward(ctx, input):\n",
    "        ctx.save_for_backward(input)\n",
    "        return input.clamp(min=0)\n",
    "    \n",
    "    @staticmethod\n",
    "    def backward(ctx, grad_output):\n",
    "        input, = ctx.saved_tensors\n",
    "        grad_input = grad_output.clone()\n",
    "        grad_input[input < 0] = 0\n",
    "        return grad_input"
   ]
  }
 ],
 "metadata": {
  "kernelspec": {
   "display_name": "Python [default]",
   "language": "python",
   "name": "python3"
  },
  "language_info": {
   "codemirror_mode": {
    "name": "ipython",
    "version": 3
   },
   "file_extension": ".py",
   "mimetype": "text/x-python",
   "name": "python",
   "nbconvert_exporter": "python",
   "pygments_lexer": "ipython3",
   "version": "3.6.6"
  }
 },
 "nbformat": 4,
 "nbformat_minor": 2
}
