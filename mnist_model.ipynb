{
 "cells": [
  {
   "cell_type": "code",
   "execution_count": 2,
   "metadata": {
    "collapsed": false
   },
   "outputs": [],
   "source": [
    "import scipy.stats as stats\n",
    "import itertools\n",
    "import scipy.optimize\n",
    "\n",
    "import numpy as np\n",
    "import matplotlib.pyplot as plt\n",
    "from matplotlib.colors import LinearSegmentedColormap\n",
    "from matplotlib.collections import PatchCollection\n",
    "from matplotlib.patches import Circle, Ellipse\n",
    "from matplotlib import cm\n",
    "import matplotlib.colors as colors\n",
    "import matplotlib as mpl\n",
    "import seaborn as sns\n",
    "%matplotlib inline\n",
    "\n",
    "from joblib import Parallel, delayed\n",
    "import multiprocessing\n",
    "num_cores = multiprocessing.cpu_count() - 2\n",
    "\n",
    "import importlib\n",
    "import data_loader as dl\n",
    "from networks.mnist import *"
   ]
  },
  {
   "cell_type": "code",
   "execution_count": 3,
   "metadata": {
    "collapsed": false
   },
   "outputs": [],
   "source": [
    "from torch import relu\n",
    "import torch\n",
    "from torch.nn.parameter import Parameter\n",
    "import torch.distributions.beta\n",
    "import torch.nn.functional as F\n",
    "import torch.utils.data as data\n",
    "from torchvision import datasets, transforms\n",
    "nn = torch.nn"
   ]
  },
  {
   "cell_type": "code",
   "execution_count": 4,
   "metadata": {
    "collapsed": true
   },
   "outputs": [],
   "source": [
    "import warnings\n",
    "warnings.filterwarnings(\"ignore\")"
   ]
  },
  {
   "cell_type": "code",
   "execution_count": null,
   "metadata": {
    "collapsed": true
   },
   "outputs": [],
   "source": [
    "os.rename()"
   ]
  },
  {
   "cell_type": "markdown",
   "metadata": {},
   "source": [
    "# Generate data"
   ]
  },
  {
   "cell_type": "code",
   "execution_count": 4,
   "metadata": {
    "collapsed": true
   },
   "outputs": [],
   "source": [
    "importlib.reload(netx)\n",
    "importlib.reload(dl)\n",
    "\n",
    "M = 1024\n",
    "mode = 'context-no-info'\n",
    "#['baseline', 'correlated', 'missing', 'context-no-info', 'img-no-info', 'multiple']\n",
    "\n",
    "Tx = transforms.Compose([transforms.ToTensor(), transforms.Normalize((0.1307,), (0.3081,))])\n",
    "\n",
    "train_loader = data.DataLoader(dl.Custom_Mnist_Dataset('data', mode=mode, train=True, refresh=False,\n",
    "                       transform=Tx), batch_size=M, num_workers=4, shuffle=True, pin_memory=True)\n",
    "\n",
    "test_loader = data.DataLoader(dl.Custom_Mnist_Dataset('data', mode=mode, train=False, refresh=False,\n",
    "                       transform=Tx), batch_size=M, num_workers=4, shuffle=True, pin_memory=True)\n",
    "\n",
    "h = train_loader.dataset.huy[:,0].numpy()\n",
    "u = train_loader.dataset.huy[:,1].numpy()\n",
    "if mode == 'context-no-info':\n",
    "    y_noiseless_train = np.round(h*2/3)\n",
    "elif mode == 'img-no-info':\n",
    "    y_noiseless_train = np.round(u*18/3)\n",
    "elif mode == 'missing':\n",
    "    u_scale = np.round(u*9).reshape((-1,1))\n",
    "    h_rep = h.reshape((-1,1))\n",
    "    u_hat = np.tile(np.arange(10), (u.shape[0],1))\n",
    "    u_hat = np.argmax(1e4*(u_scale == u_hat) + stats.binom.pmf(u_hat, n=h_rep, p=.7) * (h_rep-u_hat+1), 1)\n",
    "    y_noiseless_train = np.round((h + u_hat)/3)\n",
    "elif mode == 'multiple':\n",
    "    #huvwy\n",
    "    v = train_loader.dataset.huy[:,2].numpy()\n",
    "    w = train_loader.dataset.huy[:,3].numpy()\n",
    "    y_noiseless_train = np.round((h + u*9 - v*6 + w*6)/3)\n",
    "else:\n",
    "    y_noiseless_train = np.round((h + u*9)/3)\n",
    "    \n",
    "h = test_loader.dataset.huy[:,0].numpy()\n",
    "u = test_loader.dataset.huy[:,1].numpy()\n",
    "if mode == 'context-no-info':\n",
    "    y_noiseless_test = np.round(h*2/3)\n",
    "elif mode == 'img-no-info':\n",
    "    y_noiseless_test = np.round(u*18/3)\n",
    "elif mode == 'missing':\n",
    "    u_scale = np.round(u*9).reshape((-1,1))\n",
    "    h_rep = h.reshape((-1,1))\n",
    "    u_hat = np.tile(np.arange(10), (u.shape[0],1))\n",
    "    u_hat = np.argmax(1e4*(u_scale == u_hat) + stats.binom.pmf(u_hat, n=h_rep, p=.7) * (h_rep-u_hat+1), 1)\n",
    "    y_noiseless_test = np.round((h + u_hat)/3)\n",
    "elif mode == 'multiple':\n",
    "    #huvwy\n",
    "    v = test_loader.dataset.huy[:,2].numpy()\n",
    "    w = test_loader.dataset.huy[:,3].numpy()\n",
    "    y_noiseless_test = np.round((h + u*9 - v*6 + w*6)/3)\n",
    "else:\n",
    "    y_noiseless_test = np.round((h + u*9)/3)\n",
    "\n",
    "N = y_noiseless_train.shape[0]"
   ]
  },
  {
   "cell_type": "code",
   "execution_count": 21,
   "metadata": {
    "collapsed": true
   },
   "outputs": [],
   "source": [
    "def print_stats(test=True):\n",
    "    if test:\n",
    "        L = test_loader\n",
    "        Y_noiseless = y_noiseless_test\n",
    "    else:\n",
    "        L = train_loader\n",
    "        Y_noiseless = y_noiseless_train\n",
    "        \n",
    "    y = L.dataset.huy[:,-1].numpy()\n",
    "    N = y.size\n",
    "    true_dev = np.abs(np.round(y*6) - Y_noiseless).sum()/N\n",
    "    true_acc = (np.round(y*6) == Y_noiseless).sum()/N\n",
    "\n",
    "    avg_dev = 0\n",
    "    avg_acc = 0\n",
    "    for I, huy in L:\n",
    "        u = huy[:,1:-1].float().cuda()\n",
    "        y = huy[:,-1].numpy()\n",
    "        p_Y_UX = model.classify(I.float().cuda(), u)\n",
    "        Y_pred = p_Y_UX.max(1)[1].cpu().numpy() #p_Y_UX.detach().cpu().numpy()\n",
    "        Y_pred = np.round(np.clip(Y_pred, 0,6))\n",
    "        avg_dev += np.abs(np.round(y*6) - Y_pred).sum()\n",
    "        avg_acc += (np.round(y*6) == Y_pred).sum()\n",
    "    avg_dev /= N\n",
    "    avg_acc /= N\n",
    "\n",
    "    print(\"Mean deviation: %.3f/%.3f\" % (avg_dev, true_dev))\n",
    "    print(\"Accuracy: %.1f%%/%.1f%%\" % (avg_acc*100, true_acc*100))\n",
    "    print(np.unique(np.round(y*6), return_counts=True))\n",
    "    print(np.unique(Y_pred, return_counts=True))"
   ]
  },
  {
   "cell_type": "markdown",
   "metadata": {
    "heading_collapsed": true
   },
   "source": [
    "## MNIST CNN"
   ]
  },
  {
   "cell_type": "code",
   "execution_count": 509,
   "metadata": {
    "collapsed": true,
    "hidden": true
   },
   "outputs": [],
   "source": [
    "importlib.reload(netx)\n",
    "importlib.reload(dl)\n",
    "model = netx.MnistCNN().cuda()\n",
    "par_model = torch.nn.DataParallel(model, device_ids=[0,1,2,3])\n",
    "\n",
    "optimizer = torch.optim.Adam(model.parameters(), lr=.005)\n",
    "loss_fn = nn.modules.loss.CrossEntropyLoss()"
   ]
  },
  {
   "cell_type": "code",
   "execution_count": null,
   "metadata": {
    "collapsed": true,
    "hidden": true
   },
   "outputs": [],
   "source": [
    "epochs = 15\n",
    "for epoch in range(epochs):\n",
    "    for batch_idx, (imgs, huy) in enumerate(train_loader):\n",
    "        imgs, huy = imgs.cuda().float(), huy.cuda()\n",
    "        loss = loss_fn(par_model(imgs), huy[:,0].long())\n",
    "        optimizer.zero_grad()\n",
    "        loss.backward()\n",
    "        optimizer.step()\n",
    "        \n",
    "        if batch_idx % 20 == 0:\n",
    "            print('Train Epoch: {} [{}/{} ({:.0f}%)]\\tLoss: {:.6f}'.format(\n",
    "                epoch, batch_idx * M, len(train_loader.dataset),\n",
    "                100. * batch_idx / len(train_loader), loss.item()))"
   ]
  },
  {
   "cell_type": "code",
   "execution_count": 219,
   "metadata": {
    "collapsed": false,
    "hidden": true,
    "scrolled": true
   },
   "outputs": [
    {
     "name": "stdout",
     "output_type": "stream",
     "text": [
      "0.9512\n"
     ]
    }
   ],
   "source": [
    "L = test_loader\n",
    "x = L.dataset.imgs.float().cuda()\n",
    "H = L.dataset.huy[:,0].numpy()\n",
    "H_pred = model(x).max(1)[1].cpu().numpy()\n",
    "print((H == H_pred).sum()/H.size)"
   ]
  },
  {
   "cell_type": "markdown",
   "metadata": {},
   "source": [
    "## Naive CNN"
   ]
  },
  {
   "cell_type": "code",
   "execution_count": 27,
   "metadata": {
    "collapsed": true
   },
   "outputs": [],
   "source": [
    "importlib.reload(netx)\n",
    "importlib.reload(dl)\n",
    "\n",
    "model = netx.NaiveCNN('x-ent', num_vars=1).cuda()\n",
    "par_model = torch.nn.DataParallel(model, device_ids=[0,1,2,3])\n",
    "\n",
    "loss_fn = nn.modules.loss.CrossEntropyLoss()"
   ]
  },
  {
   "cell_type": "code",
   "execution_count": null,
   "metadata": {
    "collapsed": true
   },
   "outputs": [],
   "source": [
    "epochs = 50\n",
    "optimizer = torch.optim.SGD(model.parameters(), lr=.01, weight_decay=.0001, momentum=0.5, nesterov=True)\n",
    "patience = 3\n",
    "loss_hist = [np.inf]*patience\n",
    "\n",
    "for epoch in range(epochs):\n",
    "    cum_loss = 0\n",
    "    for batch_idx, (imgs, huy) in enumerate(train_loader):\n",
    "        imgs, huy = imgs.cuda().float(), huy.cuda()\n",
    "        loss = loss_fn(par_model(imgs, huy[:,1:-1].float()), torch.round(huy[:,-1]*6).long())\n",
    "        optimizer.zero_grad()\n",
    "        loss.backward()\n",
    "        optimizer.step()\n",
    "        \n",
    "        cum_loss += loss.item()\n",
    "        \n",
    "    print('Epoch: {} \\tLoss: {:.2f}'.format(epoch, cum_loss))\n",
    "            \n",
    "    loss_hist.append(cum_loss)\n",
    "    if np.min(cum_loss - np.array(loss_hist[-1-patience:])) >= 0:\n",
    "        break"
   ]
  },
  {
   "cell_type": "code",
   "execution_count": 29,
   "metadata": {
    "collapsed": false
   },
   "outputs": [
    {
     "name": "stdout",
     "output_type": "stream",
     "text": [
      "Mean deviation: 0.044/0.000\n",
      "Accuracy: 98.3%/100.0%\n",
      "(array([0., 1., 2., 3., 4., 5., 6.]), array([ 73, 128,  47, 113,  48, 135,  64]))\n",
      "(array([0, 1, 2, 3, 4, 5, 6]), array([ 73, 128,  49, 112,  48, 136,  62]))\n",
      "Mean deviation: 0.048/0.000\n",
      "Accuracy: 98.1%/100.0%\n",
      "(array([0., 1., 2., 3., 4., 5., 6.]), array([ 83, 159,  77, 154,  82, 147,  82]))\n",
      "(array([0, 1, 2, 3, 4, 5, 6]), array([ 84, 158,  79, 153,  80, 145,  85]))\n"
     ]
    }
   ],
   "source": [
    "print_stats(test=False)\n",
    "print_stats(test=True)"
   ]
  },
  {
   "cell_type": "code",
   "execution_count": 30,
   "metadata": {
    "collapsed": true
   },
   "outputs": [],
   "source": [
    "xent_state_dict = model.state_dict()"
   ]
  },
  {
   "cell_type": "code",
   "execution_count": 31,
   "metadata": {
    "collapsed": true
   },
   "outputs": [],
   "source": [
    "torch.save(xent_state_dict, \"xent.pth\")"
   ]
  },
  {
   "cell_type": "code",
   "execution_count": 32,
   "metadata": {
    "collapsed": true
   },
   "outputs": [],
   "source": [
    "def fill_state(M, pretrained_state):\n",
    "    state_dict = M.state_dict()\n",
    "    missing_keys = set(state_dict.keys()).difference(set(pretrained_state.keys()))\n",
    "    for key in missing_keys:\n",
    "        pretrained_state[key] = state_dict[key]\n",
    "    return pretrained_state"
   ]
  },
  {
   "cell_type": "code",
   "execution_count": 43,
   "metadata": {
    "collapsed": true
   },
   "outputs": [],
   "source": [
    "importlib.reload(netx)\n",
    "model = netx.TestModel(K=128).cuda()\n",
    "pretrained_state = torch.load(\"xent.pth\")\n",
    "model.load_state_dict(fill_state(model, pretrained_state))\n",
    "par_model = torch.nn.DataParallel(model, device_ids=range(8))"
   ]
  },
  {
   "cell_type": "markdown",
   "metadata": {},
   "source": [
    "## MixModelCNN"
   ]
  },
  {
   "cell_type": "code",
   "execution_count": 23,
   "metadata": {
    "collapsed": true
   },
   "outputs": [],
   "source": [
    "importlib.reload(netx)\n",
    "importlib.reload(dl)\n",
    "K = 256\n",
    "model = netx.MixModelCNN(K, hidden_var=False).cuda()\n",
    "par_model = torch.nn.DataParallel(model, device_ids=range(8))"
   ]
  },
  {
   "cell_type": "code",
   "execution_count": null,
   "metadata": {
    "collapsed": true
   },
   "outputs": [],
   "source": [
    "epochs = 5\n",
    "optimizer = torch.optim.SGD(model.parameters(), lr=.01, weight_decay=.0001, momentum=0.5, nesterov=True)\n",
    "#optimizer = torch.optim.Adam(model.parameters(), lr=.005)\n",
    "patience = 3\n",
    "loss_hist = [np.inf]*patience\n",
    "\n",
    "for epoch in range(epochs):\n",
    "    cum_loss = 0\n",
    "    for batch_idx, (imgs, huy) in enumerate(train_loader):\n",
    "        huy = huy.cuda()\n",
    "        loss = model.pretrain(huy[:,1:])\n",
    "        optimizer.zero_grad()\n",
    "        loss.backward()\n",
    "        optimizer.step()\n",
    "            \n",
    "        cum_loss += loss.item()\n",
    "        \n",
    "    print('Epoch: {} \\tLoss: {:.2f}'.format(epoch, cum_loss))\n",
    "    \n",
    "    loss_hist.append(cum_loss)\n",
    "    if np.min(cum_loss - np.array(loss_hist[-1-patience:])) >= 0:\n",
    "        break"
   ]
  },
  {
   "cell_type": "code",
   "execution_count": null,
   "metadata": {
    "collapsed": true
   },
   "outputs": [],
   "source": [
    "epochs = 50\n",
    "optimizer = torch.optim.SGD(model.parameters(), lr=.001, weight_decay=.001, momentum=0.5, nesterov=True)\n",
    "patience = 3\n",
    "loss_hist = [np.inf]*patience\n",
    "\n",
    "for epoch in range(epochs):\n",
    "    cum_loss = 0\n",
    "    for batch_idx, (imgs, huy) in enumerate(train_loader):\n",
    "        imgs, huy = imgs.cuda(), huy.cuda()\n",
    "        loss = par_model(imgs, huy[:,1:]).sum()\n",
    "        optimizer.zero_grad()\n",
    "        loss.backward()\n",
    "        optimizer.step()\n",
    "        \n",
    "        cum_loss += loss.item()\n",
    "        \n",
    "    print('Epoch: {} \\tLoss: {:.2f}'.format(epoch, cum_loss))\n",
    "            \n",
    "    loss_hist.append(cum_loss)\n",
    "    if np.min(cum_loss - np.array(loss_hist[-1-patience:])) >= 0:\n",
    "        break"
   ]
  },
  {
   "cell_type": "code",
   "execution_count": null,
   "metadata": {
    "collapsed": true
   },
   "outputs": [],
   "source": [
    "print_stats(test=False)\n",
    "print_stats(test=True)"
   ]
  },
  {
   "cell_type": "markdown",
   "metadata": {},
   "source": [
    "del optimizer\n",
    "torch.cuda.empty_cache()"
   ]
  },
  {
   "cell_type": "code",
   "execution_count": 480,
   "metadata": {
    "collapsed": true
   },
   "outputs": [],
   "source": [
    "a_u, b_u, a_y, b_y = model.get_ab(cuda=False)"
   ]
  },
  {
   "cell_type": "code",
   "execution_count": 481,
   "metadata": {
    "collapsed": false,
    "scrolled": true
   },
   "outputs": [
    {
     "data": {
      "text/plain": [
       "64.034996"
      ]
     },
     "execution_count": 481,
     "metadata": {},
     "output_type": "execute_result"
    }
   ],
   "source": [
    "b_u.max()"
   ]
  },
  {
   "cell_type": "markdown",
   "metadata": {},
   "source": [
    "## Plotting"
   ]
  },
  {
   "cell_type": "code",
   "execution_count": 450,
   "metadata": {
    "collapsed": false
   },
   "outputs": [
    {
     "data": {
      "text/plain": [
       "<module 'data_loader' from '/data/vision/polina/users/clintonw/code/vision_final/data_loader.py'>"
      ]
     },
     "execution_count": 450,
     "metadata": {},
     "output_type": "execute_result"
    }
   ],
   "source": [
    "importlib.reload(netx)\n",
    "importlib.reload(dl)"
   ]
  },
  {
   "cell_type": "code",
   "execution_count": 413,
   "metadata": {
    "collapsed": true
   },
   "outputs": [],
   "source": [
    "def plot_beta_pdf(a,b):\n",
    "    X = np.linspace(0.01,.99,1000)\n",
    "    Y = [stats.beta.pdf(X, a=a.detach().cpu().numpy()[0,i], b=b.detach().cpu().numpy()[0,i]) for i in range(K)]\n",
    "    [plt.plot(X,Y[i]) for i in range(K)];"
   ]
  },
  {
   "cell_type": "code",
   "execution_count": 755,
   "metadata": {
    "collapsed": false,
    "scrolled": true
   },
   "outputs": [
    {
     "data": {
      "image/png": "[encoded data removed]",
      "text/plain": [
       "<Figure size 432x360 with 2 Axes>"
      ]
     },
     "metadata": {
      "needs_background": "light"
     },
     "output_type": "display_data"
    }
   ],
   "source": [
    "uy = train_loader.dataset.huy[:,1:].numpy()\n",
    "#uy[uy < 0] = -1/9\n",
    "coords, freq = np.unique(uy, axis=0, return_counts=True)\n",
    "alpha_cm = LinearSegmentedColormap.from_list('transparent_cm', [(0,0,0,0), (0,0,0,1)])\n",
    "\n",
    "fig, ax = plt.subplots(figsize=(6,5))\n",
    "\n",
    "p_z = freq/freq.sum()\n",
    "patches = []\n",
    "for x1, y1, r in zip(coords[:,0], coords[:,1], p_z**.5):\n",
    "    circle = Circle((x1, y1), .02)#r/5) #.02\n",
    "    patches.append(circle)\n",
    "\n",
    "p = PatchCollection(patches)\n",
    "#p.set_color((.4,.4,.4))\n",
    "p.set_array(np.array(p_z))\n",
    "#p.set_cmap(alpha_cm)\n",
    "#p.set_clim(0, .01)\n",
    "ax.add_collection(p)\n",
    "fig.colorbar(p, ax=ax)\n",
    "plt.xticks(np.linspace(0,1,10), range(10))\n",
    "#plt.xticks(np.linspace(-1/9,1,11), range(-1,10))\n",
    "plt.yticks(np.linspace(0,1,7), range(7))\n",
    "plt.xlim(-.1,1.1)\n",
    "#plt.xlim(-.2,1.1)\n",
    "plt.ylim(-.1,1.1)\n",
    "plt.xlabel('U');\n",
    "plt.ylabel('Y');"
   ]
  },
  {
   "cell_type": "code",
   "execution_count": 776,
   "metadata": {
    "collapsed": true
   },
   "outputs": [],
   "source": [
    "def plot_beta_2d_pdf(model):\n",
    "    a_u, b_u, a_y, b_y = model.get_ab(cuda=False)\n",
    "    mu_X = stats.beta.mean(a_u,b_u)\n",
    "    mu_Y = stats.beta.mean(a_y,b_y)\n",
    "    sig_X = stats.beta.var(a_u,b_u)**.5\n",
    "    sig_Y = stats.beta.var(a_y,b_y)**.5\n",
    "    \n",
    "    fig, ax = plt.subplots(figsize=(6,5))\n",
    "\n",
    "    patches = []\n",
    "    for x1, y1, rx, ry in zip(mu_X, mu_Y, sig_X, sig_Y):\n",
    "        ell = Ellipse((x1, y1), rx, ry)\n",
    "        patches.append(ell)\n",
    "\n",
    "    p = PatchCollection(patches, alpha=.05)\n",
    "    \n",
    "    \"\"\"if p_z is not None:\n",
    "        p_z = cuda_to_np(p_z)\n",
    "        p.set_array(np.array(p_z/sig_X/sig_Y))\n",
    "        p.set_cmap(alpha_cm)\n",
    "        #p.set_clim(0, round(np.max(p_z/sig_X/sig_Y)))\"\"\"\n",
    "        \n",
    "    ax.add_collection(p)\n",
    "    #if p_z is not None:\n",
    "    #    fig.colorbar(p, ax=ax)\n",
    "\n",
    "    plt.xlim(-.1,1.1)\n",
    "    plt.ylim(-.1,1.1)"
   ]
  },
  {
   "cell_type": "code",
   "execution_count": 777,
   "metadata": {
    "collapsed": false,
    "scrolled": true
   },
   "outputs": [
    {
     "data": {
      "image/png": "[encoded data removed]",
      "text/plain": [
       "<Figure size 432x360 with 1 Axes>"
      ]
     },
     "metadata": {
      "needs_background": "light"
     },
     "output_type": "display_data"
    }
   ],
   "source": [
    "plot_beta_2d_pdf(model)\n",
    "plt.xlabel('U');\n",
    "plt.ylabel('Y');"
   ]
  },
  {
   "cell_type": "code",
   "execution_count": 778,
   "metadata": {
    "collapsed": true
   },
   "outputs": [],
   "source": [
    "def plot_beta_2d_pdf(model):\n",
    "    R = 128\n",
    "    a_u, b_u, a_y, b_y = model.get_ab(cuda=False)\n",
    "    X = np.linspace(0.01,.99,R)\n",
    "    Y = np.linspace(0.01,.99,R)\n",
    "    \n",
    "    fill_Z = lambda i,j: sum([stats.beta.pdf(X[i], a_u[k], b_u[k]) * stats.beta.pdf(Y[j], a_y[k], b_y[k]) for k in range(K)])\n",
    "    Z = np.reshape(Parallel(n_jobs=num_cores)(delayed(fill_Z)(i,j) for (i,j) in itertools.product(range(R),range(R))), (R,R)).transpose((1,0))\n",
    "    \n",
    "    return Z"
   ]
  },
  {
   "cell_type": "code",
   "execution_count": 779,
   "metadata": {
    "collapsed": true
   },
   "outputs": [],
   "source": [
    "Z = plot_beta_2d_pdf(model)"
   ]
  },
  {
   "cell_type": "code",
   "execution_count": 780,
   "metadata": {
    "collapsed": false,
    "scrolled": true
   },
   "outputs": [
    {
     "data": {
      "image/png": "[encoded data removed]",
      "text/plain": [
       "<Figure size 432x432 with 2 Axes>"
      ]
     },
     "metadata": {
      "needs_background": "light"
     },
     "output_type": "display_data"
    }
   ],
   "source": [
    "fig, ax = plt.subplots(figsize=(6,6))\n",
    "ax.imshow(Z, cmap=alpha_cm, vmin=0, vmax=round(np.percentile(Z,99.8)), aspect=1.5, extent=[0,9,6,0])\n",
    "fig.colorbar(ax.get_children()[-2], ax=ax)\n",
    "plt.xticks(range(10))\n",
    "plt.xlim(-.9,9.9)\n",
    "plt.ylim(-.6,6.6)\n",
    "\n",
    "plt.xlabel('U');\n",
    "plt.ylabel('Y');"
   ]
  },
  {
   "cell_type": "code",
   "execution_count": null,
   "metadata": {
    "collapsed": true
   },
   "outputs": [],
   "source": []
  }
 ],
 "metadata": {
  "anaconda-cloud": {},
  "kernelspec": {
   "display_name": "Python [conda env:clinton]",
   "language": "python",
   "name": "conda-env-clinton-py"
  }
 },
 "nbformat": 4,
 "nbformat_minor": 2
}
