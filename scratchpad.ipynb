{
 "cells": [
  {
   "cell_type": "code",
   "execution_count": 1,
   "metadata": {
    "collapsed": false
   },
   "outputs": [],
   "source": [
    "import shutil\n",
    "import importlib\n",
    "import itertools\n",
    "import glob, os\n",
    "from os.path import *\n",
    "\n",
    "import scipy.stats as stats\n",
    "import scipy.optimize\n",
    "\n",
    "import numpy as np\n",
    "import pandas as pd\n",
    "import matplotlib.pyplot as plt\n",
    "%matplotlib inline\n",
    "\n",
    "from joblib import Parallel, delayed\n",
    "import multiprocessing\n",
    "num_cores = multiprocessing.cpu_count() - 2\n",
    "\n",
    "import copy\n",
    "import niftiutils.io as io"
   ]
  },
  {
   "cell_type": "code",
   "execution_count": 2,
   "metadata": {
    "collapsed": true
   },
   "outputs": [],
   "source": [
    "import torch\n",
    "from torch.nn.parameter import Parameter\n",
    "import torch.nn.functional as F\n",
    "import torch.utils.data as data\n",
    "import torchvision\n",
    "import util\n",
    "import analysis as ana\n",
    "\n",
    "import networks.base as nets\n",
    "import datasets.common as datasets\n",
    "import datasets.mnist as mnist\n",
    "import datasets.cifar as cifar\n",
    "import scripts.train_classifier as main\n",
    "nn = torch.nn"
   ]
  },
  {
   "cell_type": "code",
   "execution_count": 26,
   "metadata": {
    "collapsed": false
   },
   "outputs": [],
   "source": [
    "import scipy.stats as stats"
   ]
  },
  {
   "cell_type": "code",
   "execution_count": 3,
   "metadata": {
    "collapsed": true
   },
   "outputs": [],
   "source": [
    "import warnings\n",
    "warnings.filterwarnings(\"ignore\")"
   ]
  },
  {
   "cell_type": "code",
   "execution_count": 47,
   "metadata": {
    "collapsed": true
   },
   "outputs": [],
   "source": [
    "np.set_printoptions(suppress=True)"
   ]
  },
  {
   "cell_type": "code",
   "execution_count": 79,
   "metadata": {
    "collapsed": false,
    "scrolled": true
   },
   "outputs": [
    {
     "data": {
      "text/plain": [
       "array([0.09406182, 0.49142504, 0.36104697, 0.05239684, 0.00106932])"
      ]
     },
     "execution_count": 79,
     "metadata": {},
     "output_type": "execute_result"
    }
   ],
   "source": [
    "n=4\n",
    "p_n = stats.norm.pdf(range(5), n=n, p=2/(n+1.5))**2\n",
    "p_n/p_n.sum()"
   ]
  },
  {
   "cell_type": "code",
   "execution_count": 16,
   "metadata": {
    "collapsed": false,
    "scrolled": true
   },
   "outputs": [],
   "source": [
    "importlib.reload(util)\n",
    "arg_list = util.get_ordered_experiments()"
   ]
  },
  {
   "cell_type": "code",
   "execution_count": 17,
   "metadata": {
    "collapsed": false
   },
   "outputs": [
    {
     "name": "stdout",
     "output_type": "stream",
     "text": [
      "nohup ./srunner.sh cls 2 --noise 4 --u_arch cat > srun0.out 2> srun0.err < /dev/null &\n"
     ]
    }
   ],
   "source": [
    "print(util.args_to_sh(arg_list[5], n_gpus=2))"
   ]
  },
  {
   "cell_type": "code",
   "execution_count": 601,
   "metadata": {
    "collapsed": false
   },
   "outputs": [
    {
     "name": "stdout",
     "output_type": "stream",
     "text": [
      "CUDA_VISIBLE_DEVICES=1,2,3 nohup python train_classifier.py --dataset cifar100 --arch dense --bsz 256 --nU 100 --Y_fn 1+1d10 > cls26.out 2> cls26.err < /dev/null &\n"
     ]
    }
   ],
   "source": [
    "print(util.args_to_sh(arg_list[2], slurm=False, exc_gpu=1))"
   ]
  },
  {
   "cell_type": "code",
   "execution_count": null,
   "metadata": {
    "collapsed": true
   },
   "outputs": [],
   "source": [
    "nohup python train_classifier.py --dataset cifar100 --arch dense --bsz 256 --nU 100 --Y_fn 1+1d10 --optim nest > cls26.out 2> cls26.err < /dev/null &"
   ]
  },
  {
   "cell_type": "code",
   "execution_count": null,
   "metadata": {
    "collapsed": true
   },
   "outputs": [],
   "source": [
    "util.clean_df()"
   ]
  },
  {
   "cell_type": "code",
   "execution_count": null,
   "metadata": {
    "collapsed": true
   },
   "outputs": [],
   "source": [
    "[os.remove(fn) for fn in glob.glob('data/cifar100/*.npy')]"
   ]
  },
  {
   "cell_type": "code",
   "execution_count": null,
   "metadata": {
    "collapsed": true
   },
   "outputs": [],
   "source": [
    "glob.glob('data/fmnist/*.npy')"
   ]
  },
  {
   "cell_type": "code",
   "execution_count": 397,
   "metadata": {
    "collapsed": false
   },
   "outputs": [
    {
     "data": {
      "text/plain": [
       "[None]"
      ]
     },
     "execution_count": 397,
     "metadata": {},
     "output_type": "execute_result"
    }
   ],
   "source": [
    "[os.remove(fn) for fn in glob.glob('scripts/*.err')]"
   ]
  },
  {
   "cell_type": "code",
   "execution_count": 23,
   "metadata": {
    "collapsed": true
   },
   "outputs": [],
   "source": [
    "for fn in glob.glob('scripts/*.err'):\n",
    "    with open(fn, 'r') as f:\n",
    "        F=f.readlines()\n",
    "    if len(F)>0 and 'Error' in F[-1]:\n",
    "        print(fn, F[-10:])"
   ]
  },
  {
   "cell_type": "code",
   "execution_count": null,
   "metadata": {
    "collapsed": true
   },
   "outputs": [],
   "source": [
    "for fn in glob.glob('scripts/*.out'):\n",
    "    with open(fn, 'r') as f:\n",
    "        F=f.readlines()\n",
    "    if len(F) < 18:\n",
    "        print(fn, F[-10:])"
   ]
  },
  {
   "cell_type": "code",
   "execution_count": null,
   "metadata": {
    "collapsed": true
   },
   "outputs": [],
   "source": [
    "with open('scripts/cls23.out', 'r') as f:\n",
    "    F=f.readlines()\n",
    "F[-100:]"
   ]
  },
  {
   "cell_type": "code",
   "execution_count": 395,
   "metadata": {
    "collapsed": true
   },
   "outputs": [],
   "source": [
    "util.clean_df()"
   ]
  },
  {
   "cell_type": "code",
   "execution_count": null,
   "metadata": {
    "collapsed": true
   },
   "outputs": [],
   "source": [
    "csv_path = '/data/vision/polina/users/clintonw/code/vision_final/results.csv'\n",
    "df = pd.read_csv(csv_path, index_col=0)"
   ]
  },
  {
   "cell_type": "code",
   "execution_count": 491,
   "metadata": {
    "collapsed": true
   },
   "outputs": [],
   "source": [
    "#df = df[df['epochs'] > 4]\n",
    "#df = df[np.concatenate([df.columns[:6], df.columns[-1:], df.columns[6:-1]])]\n",
    "df = df.drop('cifar100_0')"
   ]
  },
  {
   "cell_type": "code",
   "execution_count": 492,
   "metadata": {
    "collapsed": true
   },
   "outputs": [],
   "source": [
    "df.to_csv(csv_path)"
   ]
  },
  {
   "cell_type": "code",
   "execution_count": null,
   "metadata": {
    "collapsed": true
   },
   "outputs": [],
   "source": [
    "for fn in os.listdir('history'):\n",
    "    if fn[:fn.find('.')] not in df.index:\n",
    "        os.remove('history/'+fn)"
   ]
  },
  {
   "cell_type": "code",
   "execution_count": 18,
   "metadata": {
    "collapsed": false
   },
   "outputs": [
    {
     "data": {
      "text/plain": [
       "dict_keys(['loss', 'val-acc', 'epochs', 'true_KL', 'emp_KL', 'true_JS', 'emp_JS', 'HZ', 'HU', 'HY', 'HY_Z', 'HY_U', 'HY_ZU', 'IZU', 'dataset', 'nU', 'context_dist', 'noise', 'Y_fn', 'arch', 'optim', 'patience', 'mcmc', 'tboard', 'refresh_data', 'img_only', 'bsz', 'lr', 'wd', 'model_type', 'model_name'])"
      ]
     },
     "execution_count": 18,
     "metadata": {},
     "output_type": "execute_result"
    }
   ],
   "source": [
    "hist.keys()"
   ]
  },
  {
   "cell_type": "code",
   "execution_count": null,
   "metadata": {
    "collapsed": true
   },
   "outputs": [],
   "source": [
    "for fn in glob.glob('results/fmnist*.hist'):\n",
    "    hist = io.pickle_load(fn)\n",
    "    print(fn, hist['val-acc'][-1])"
   ]
  },
  {
   "cell_type": "markdown",
   "metadata": {},
   "source": [
    "## Deterministic analysis"
   ]
  },
  {
   "cell_type": "code",
   "execution_count": 555,
   "metadata": {
    "collapsed": false
   },
   "outputs": [
    {
     "data": {
      "text/plain": [
       "<module 'analysis' from '/data/vision/polina/users/clintonw/code/vision_final/analysis.py'>"
      ]
     },
     "execution_count": 555,
     "metadata": {},
     "output_type": "execute_result"
    }
   ],
   "source": [
    "importlib.reload(ana)"
   ]
  },
  {
   "cell_type": "code",
   "execution_count": 557,
   "metadata": {
    "collapsed": false
   },
   "outputs": [],
   "source": [
    "ents = np.zeros((1000, 1000))\n",
    "max_x, max_y = 0,0\n",
    "for model_name, row in df.iterrows():\n",
    "    hist_path = \"history/%s.hist\" % model_name\n",
    "    if not exists(hist_path):\n",
    "        continue\n",
    "        \n",
    "    hist = io.pickle_load(hist_path)\n",
    "    if 'HU' not in hist:\n",
    "        continue\n",
    "    \n",
    "    x = int(hist['HU']*50)\n",
    "    y = int(hist['HY_Z']*50)\n",
    "    max_x = max(max_x, x)\n",
    "    max_y = max(max_y, y)\n",
    "    ents[x, y] = row['acc']"
   ]
  },
  {
   "cell_type": "code",
   "execution_count": null,
   "metadata": {
    "collapsed": true
   },
   "outputs": [],
   "source": [
    "pd.DataFrame(columns=['HU', 'HY_Z', 'HY_ZU'])"
   ]
  },
  {
   "cell_type": "code",
   "execution_count": 558,
   "metadata": {
    "collapsed": false
   },
   "outputs": [
    {
     "data": {
      "image/png": "[encoded data removed]",
      "text/plain": [
       "<Figure size 432x288 with 2 Axes>"
      ]
     },
     "metadata": {
      "needs_background": "light"
     },
     "output_type": "display_data"
    }
   ],
   "source": [
    "xlim = max_x//50+2\n",
    "ylim = max_y//50+2\n",
    "ana.heatmap(ents[:xlim*50, :ylim*50].transpose(1,0), sigma=15, cmap='hot_r')\n",
    "plt.xticks(np.arange(0,xlim*50, 50), range(xlim))\n",
    "plt.yticks(np.arange(0,ylim*50, 50), range(ylim))\n",
    "plt.gca().invert_yaxis()\n",
    "#plt.savefig('sample.jpg')\n",
    "#plt.close()"
   ]
  },
  {
   "cell_type": "code",
   "execution_count": null,
   "metadata": {
    "collapsed": true
   },
   "outputs": [],
   "source": []
  },
  {
   "cell_type": "markdown",
   "metadata": {},
   "source": [
    "## etc"
   ]
  },
  {
   "cell_type": "code",
   "execution_count": 104,
   "metadata": {
    "collapsed": true
   },
   "outputs": [],
   "source": [
    "args = main.get_args('')\n",
    "ent = util.get_entropy(args, nZ=10)\n",
    "ents = {k:[] for k in ent}"
   ]
  },
  {
   "cell_type": "code",
   "execution_count": 84,
   "metadata": {
    "collapsed": true
   },
   "outputs": [],
   "source": [
    "d_ents = copy.deepcopy(ents)\n",
    "#uni_ents = copy.deepcopy(ents)"
   ]
  },
  {
   "cell_type": "code",
   "execution_count": 95,
   "metadata": {
    "collapsed": false
   },
   "outputs": [
    {
     "data": {
      "text/plain": [
       "37"
      ]
     },
     "execution_count": 95,
     "metadata": {},
     "output_type": "execute_result"
    }
   ],
   "source": [
    "args['f'](9,nU-1)"
   ]
  },
  {
   "cell_type": "code",
   "execution_count": 120,
   "metadata": {
    "collapsed": true
   },
   "outputs": [],
   "source": [
    "for u in range(2, 11):\n",
    "    nU = round(1.5**u)\n",
    "    args = main.get_args(['--Y_fn', '%d*%dd%d' % (1, 8, 1), '--nU', str(nU)])\n",
    "    ent = util.get_entropy(args, nZ=10)\n",
    "    for k in ent:\n",
    "        ents[k].append(ent[k])"
   ]
  },
  {
   "cell_type": "code",
   "execution_count": 80,
   "metadata": {
    "collapsed": true
   },
   "outputs": [],
   "source": [
    "for nU in range(2, 20, 2):\n",
    "    args = main.get_args(['--outcome_fn', 'd%d' % (nU//2), '--nU', str(nU)])\n",
    "    ent = util.get_entropy(args, nZ=10)\n",
    "    for k in ent:\n",
    "        ents[k].append(ent[k])"
   ]
  },
  {
   "cell_type": "code",
   "execution_count": 77,
   "metadata": {
    "collapsed": false
   },
   "outputs": [],
   "source": [
    "for u in range(2, 10):\n",
    "    nU = round(1.5**u)\n",
    "    args = main.get_args(['--noise', str(nU//2), '--nU', str(nU)])\n",
    "    ent = util.get_entropy(args, nZ=10)\n",
    "    for k in ent:\n",
    "        ents[k].append(ent[k])"
   ]
  },
  {
   "cell_type": "code",
   "execution_count": 121,
   "metadata": {
    "collapsed": false
   },
   "outputs": [
    {
     "data": {
      "text/plain": [
       "Text(0,0.5,'HU')"
      ]
     },
     "execution_count": 121,
     "metadata": {},
     "output_type": "execute_result"
    },
    {
     "data": {
      "image/png": "[encoded data removed]",
      "text/plain": [
       "<Figure size 432x288 with 1 Axes>"
      ]
     },
     "metadata": {
      "needs_background": "light"
     },
     "output_type": "display_data"
    }
   ],
   "source": [
    "plt.plot(uni_ents['HY_Z'], uni_ents['HU'], 'b.')\n",
    "plt.plot(d_ents['HY_Z'], d_ents['HU'], 'r.')\n",
    "plt.plot(ents['HY_Z'], ents['HU'], 'g.')\n",
    "plt.xlabel('HY_Z')\n",
    "plt.ylabel('HU')\n",
    "#plt.xlim(0,)"
   ]
  },
  {
   "cell_type": "code",
   "execution_count": null,
   "metadata": {
    "collapsed": true
   },
   "outputs": [],
   "source": [
    "for fn in glob.glob('history/*.ent'):\n",
    "    hist_fns = glob.glob(fn[:-5]+\"*.hist\")\n",
    "    if len(hist_fns) == 0:\n",
    "        continue\n",
    "    hist = io.pickle_load(hist_fns[0])\n",
    "    acc = hist['val-acc'][-1]\n",
    "    ent = io.pickle_load(fn)\n",
    "    model_name = basename(hist_fns[0])[:-5]\n",
    "    print(df.loc[model_name])\n",
    "    df.loc[model_name, 'acc'] = acc\n",
    "    desc = df.loc[model_name, 'model_type']\n",
    "    ds = df.loc[model_name, 'dataset']\n",
    "    xuy = np.load('data/%s/%s_val.npy' % (ds, desc))\n",
    "    emp_post = util.emp_post(xuy)\n",
    "    #true_post = util.true_post(xuy[:,:2], args['f'], noise=args['noise'])\n",
    "    pred_post, pX, pU = util.pred_post(preds, xuy[:,:2])\n",
    "    #true_KL = util.kl_div(pred_post, true_post, pX, pU)\n",
    "    emp_KL = util.kl_div(pred_post, emp_post, pX, pU)\n",
    "    #true_JS = util.js_div(pred_post, true_post, pX, pU)\n",
    "    emp_JS = util.js_div(pred_post, emp_post, pX, pU)\n",
    "    \n",
    "    df.loc[model_name, 'true_KL'] = acc\n",
    "    print(df.loc[model_name])\n",
    "    break\n",
    "    "
   ]
  }
 ],
 "metadata": {
  "anaconda-cloud": {},
  "kernelspec": {
   "display_name": "Python [conda env:clinton]",
   "language": "python",
   "name": "conda-env-clinton-py"
  },
  "language_info": {
   "codemirror_mode": {
    "name": "ipython",
    "version": 3
   },
   "file_extension": ".py",
   "mimetype": "text/x-python",
   "name": "python",
   "nbconvert_exporter": "python",
   "pygments_lexer": "ipython3",
   "version": "3.6.6"
  }
 },
 "nbformat": 4,
 "nbformat_minor": 2
}
