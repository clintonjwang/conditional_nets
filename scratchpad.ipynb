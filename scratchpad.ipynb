{
 "cells": [
  {
   "cell_type": "code",
   "execution_count": null,
   "metadata": {
    "collapsed": true
   },
   "outputs": [],
   "source": [
    "export HOME=/data/vision/polina/users/clintonw\n",
    "export PATH=$PATH:/data/vision/polina/shared_software/anaconda3/bin\n",
    "export PROJ=/data/vision/polina/projects/wmh/clintonw\n",
    "source activate clinton\n",
    "cd \"$HOME/code/vision_final/scripts\""
   ]
  },
  {
   "cell_type": "code",
   "execution_count": 171,
   "metadata": {
    "collapsed": false
   },
   "outputs": [],
   "source": [
    "import shutil\n",
    "import importlib\n",
    "import itertools\n",
    "import glob, os\n",
    "from os.path import *\n",
    "\n",
    "import scipy.stats as stats\n",
    "import scipy.optimize\n",
    "\n",
    "import numpy as np\n",
    "import pandas as pd\n",
    "import matplotlib.pyplot as plt\n",
    "%matplotlib inline\n",
    "\n",
    "from joblib import Parallel, delayed\n",
    "import multiprocessing\n",
    "num_cores = multiprocessing.cpu_count() - 2\n",
    "\n",
    "import copy\n",
    "import niftiutils.io as io"
   ]
  },
  {
   "cell_type": "code",
   "execution_count": 172,
   "metadata": {
    "collapsed": true
   },
   "outputs": [],
   "source": [
    "import torch\n",
    "from torch.nn.parameter import Parameter\n",
    "import torch.nn.functional as F\n",
    "import torch.utils.data as data\n",
    "import torchvision\n",
    "import util\n",
    "import analysis as ana\n",
    "\n",
    "import networks.base as nets\n",
    "import datasets.common as datasets\n",
    "import datasets.mnist as mnist\n",
    "import datasets.cifar as cifar\n",
    "import scripts.train_classifier as main\n",
    "nn = torch.nn"
   ]
  },
  {
   "cell_type": "code",
   "execution_count": 173,
   "metadata": {
    "collapsed": true
   },
   "outputs": [],
   "source": [
    "import warnings\n",
    "warnings.filterwarnings(\"ignore\")\n",
    "\n",
    "#np.set_printoptions(suppress=True)"
   ]
  },
  {
   "cell_type": "code",
   "execution_count": 131,
   "metadata": {
    "collapsed": true
   },
   "outputs": [],
   "source": [
    "importlib.reload(util);"
   ]
  },
  {
   "cell_type": "code",
   "execution_count": 132,
   "metadata": {
    "collapsed": false,
    "scrolled": false
   },
   "outputs": [],
   "source": [
    "arg_list = util.get_ordered_experiments()"
   ]
  },
  {
   "cell_type": "code",
   "execution_count": 215,
   "metadata": {
    "collapsed": false
   },
   "outputs": [
    {
     "name": "stdout",
     "output_type": "stream",
     "text": [
      "nohup ./srunner.sh cls 4 --noise_p 0.1 --u_arch cat > srun3.out 2> srun3.err < /dev/null &\n"
     ]
    }
   ],
   "source": [
    "print(util.args_to_sh(arg_list[18], n_gpus=4))"
   ]
  },
  {
   "cell_type": "code",
   "execution_count": null,
   "metadata": {
    "collapsed": true
   },
   "outputs": [],
   "source": [
    "nohup ./srunner.sh cls 2 --N_train 15000 --noise_p 0.5 --arch all-conv > srun0.out 2> srun0.err < /dev/null &"
   ]
  },
  {
   "cell_type": "code",
   "execution_count": 216,
   "metadata": {
    "collapsed": false
   },
   "outputs": [
    {
     "name": "stdout",
     "output_type": "stream",
     "text": [
      "CUDA_VISIBLE_DEVICES=1,2,3 nohup python train_classifier.py --N_train 3750 --arch all-conv > py9.out 2> py9.err < /dev/null &\n"
     ]
    }
   ],
   "source": [
    "print(util.args_to_sh(arg_list[10], slurm=False, exc_gpu=1))"
   ]
  },
  {
   "cell_type": "code",
   "execution_count": null,
   "metadata": {
    "collapsed": true
   },
   "outputs": [],
   "source": [
    "CUDA_VISIBLE_DEVICES=1,2,3 nohup python train_classifier.py --N_train 60000 --noise_p 0.1 --arch all-conv > py10.out 2> py10.err < /dev/null &"
   ]
  },
  {
   "cell_type": "code",
   "execution_count": 20,
   "metadata": {
    "collapsed": false
   },
   "outputs": [],
   "source": [
    "args = main.get_args(arg_list[0])"
   ]
  },
  {
   "cell_type": "code",
   "execution_count": 61,
   "metadata": {
    "collapsed": false
   },
   "outputs": [],
   "source": [
    "util.clean_df()"
   ]
  },
  {
   "cell_type": "code",
   "execution_count": null,
   "metadata": {
    "collapsed": true
   },
   "outputs": [],
   "source": [
    "[os.remove(fn) for fn in glob.glob('logs/events*')]"
   ]
  },
  {
   "cell_type": "code",
   "execution_count": null,
   "metadata": {
    "collapsed": true
   },
   "outputs": [],
   "source": [
    "[os.removedirs(fn) for fn in glob.glob('logs/*') if len(os.listdir(fn))==0]"
   ]
  },
  {
   "cell_type": "code",
   "execution_count": null,
   "metadata": {
    "collapsed": true
   },
   "outputs": [],
   "source": [
    "glob.glob('logs/*')"
   ]
  },
  {
   "cell_type": "code",
   "execution_count": null,
   "metadata": {
    "collapsed": true
   },
   "outputs": [],
   "source": [
    "[os.remove(fn) for fn in glob.glob('data/mnist/*.npy')]"
   ]
  },
  {
   "cell_type": "code",
   "execution_count": null,
   "metadata": {
    "collapsed": true
   },
   "outputs": [],
   "source": [
    "glob.glob('data/fmnist/*.npy')"
   ]
  },
  {
   "cell_type": "code",
   "execution_count": null,
   "metadata": {
    "collapsed": true
   },
   "outputs": [],
   "source": [
    "[os.remove(fn) for fn in glob.glob('scripts/*.err')]"
   ]
  },
  {
   "cell_type": "code",
   "execution_count": null,
   "metadata": {
    "collapsed": true
   },
   "outputs": [],
   "source": []
  },
  {
   "cell_type": "markdown",
   "metadata": {},
   "source": [
    "## df analysis"
   ]
  },
  {
   "cell_type": "code",
   "execution_count": 275,
   "metadata": {
    "collapsed": true
   },
   "outputs": [],
   "source": [
    "csv_path = '/data/vision/polina/users/clintonw/code/vision_final/results.csv'\n",
    "df = pd.read_csv(csv_path, index_col=0)"
   ]
  },
  {
   "cell_type": "code",
   "execution_count": 276,
   "metadata": {
    "collapsed": true
   },
   "outputs": [],
   "source": [
    "df = df[(df['epochs'] > 5) & (df['acc'] > 0)]"
   ]
  },
  {
   "cell_type": "code",
   "execution_count": 339,
   "metadata": {
    "collapsed": true
   },
   "outputs": [],
   "source": [
    "df_sub = df[(df['dataset'] == 'fmnist') & (df['nU'] == 10) & (df['N_train'] == 15000) & (df['noise_p'] >= 0)]"
   ]
  },
  {
   "cell_type": "code",
   "execution_count": null,
   "metadata": {
    "collapsed": true
   },
   "outputs": [],
   "source": [
    "df"
   ]
  },
  {
   "cell_type": "code",
   "execution_count": 297,
   "metadata": {
    "collapsed": false
   },
   "outputs": [
    {
     "data": {
      "text/plain": [
       "(0, 1.05)"
      ]
     },
     "execution_count": 297,
     "metadata": {},
     "output_type": "execute_result"
    },
    {
     "data": {
      "image/png": "[encoded data removed]",
      "text/plain": [
       "<Figure size 432x288 with 1 Axes>"
      ]
     },
     "metadata": {
      "needs_background": "light"
     },
     "output_type": "display_data"
    }
   ],
   "source": [
    "plt.figure(figsize=(6,4))\n",
    "x = [0,.1,.2,.3,.4,.5]\n",
    "y = [df_sub.loc[df_sub['noise_p'] == p, 'emp_est_acc'][0] for p in x]\n",
    "plt.plot(x, y, 'k--')\n",
    "for name, row in df_sub.iterrows():\n",
    "    x,y = row['noise_p'], row['acc']\n",
    "    m='o' if row['arch'] == 'dense' else '^'\n",
    "    c=1 if row['u_arch'] == 'film' else 2\n",
    "    plt.scatter(x, y, c=c, marker=m)\n",
    "plt.xlabel('Noise level')\n",
    "plt.ylabel('Accuracy')\n",
    "plt.ylim(0,1.05)"
   ]
  },
  {
   "cell_type": "code",
   "execution_count": 298,
   "metadata": {
    "collapsed": true
   },
   "outputs": [],
   "source": [
    "df_sub = df[(df['dataset'] == 'fmnist') & (df['nU'] == 10) & (df['noise_p'] == 0.1)]"
   ]
  },
  {
   "cell_type": "code",
   "execution_count": 342,
   "metadata": {
    "collapsed": false
   },
   "outputs": [
    {
     "data": {
      "text/plain": [
       "(0, 1.05)"
      ]
     },
     "execution_count": 342,
     "metadata": {},
     "output_type": "execute_result"
    },
    {
     "data": {
      "image/png": "[encoded data removed]",
      "text/plain": [
       "<Figure size 432x288 with 1 Axes>"
      ]
     },
     "metadata": {
      "needs_background": "light"
     },
     "output_type": "display_data"
    }
   ],
   "source": [
    "plt.figure(figsize=(6,4))\n",
    "sns.scatterplot(x='noise_p', y='acc', data=df_sub, hue='arch', style='u_arch')\n",
    "x = [0,.1,.2,.3,.4,.5]\n",
    "y = [df_sub.loc[df_sub['noise_p'] == p, 'emp_est_acc'][0] for p in x]\n",
    "plt.plot(x, y, 'k--')\n",
    "plt.xlabel('Noise level')\n",
    "plt.ylabel('Accuracy')\n",
    "plt.ylim(0,1.05)"
   ]
  },
  {
   "cell_type": "code",
   "execution_count": 326,
   "metadata": {
    "collapsed": false
   },
   "outputs": [
    {
     "data": {
      "text/plain": [
       "array(['o', '^', '^'], dtype='<U1')"
      ]
     },
     "execution_count": 326,
     "metadata": {},
     "output_type": "execute_result"
    }
   ],
   "source": [
    "legend[[0,1,1]]"
   ]
  },
  {
   "cell_type": "code",
   "execution_count": 336,
   "metadata": {
    "collapsed": true
   },
   "outputs": [],
   "source": [
    "import seaborn as sns"
   ]
  },
  {
   "cell_type": "code",
   "execution_count": 338,
   "metadata": {
    "collapsed": false,
    "scrolled": true
   },
   "outputs": [
    {
     "data": {
      "text/plain": [
       "<matplotlib.axes._subplots.AxesSubplot at 0x7f74c2ee3358>"
      ]
     },
     "execution_count": 338,
     "metadata": {},
     "output_type": "execute_result"
    },
    {
     "data": {
      "image/png": "[encoded data removed]",
      "text/plain": [
       "<Figure size 432x288 with 1 Axes>"
      ]
     },
     "metadata": {
      "needs_background": "light"
     },
     "output_type": "display_data"
    }
   ],
   "source": [
    "sns.scatterplot(x='N_train', y='acc', data=df_sub, hue='arch', style='u_arch')"
   ]
  },
  {
   "cell_type": "code",
   "execution_count": 335,
   "metadata": {
    "collapsed": false,
    "scrolled": true
   },
   "outputs": [
    {
     "name": "stderr",
     "output_type": "stream",
     "text": [
      "WARNING:matplotlib.legend:No handles with labels found to put in legend.\n"
     ]
    },
    {
     "data": {
      "image/png": "[encoded data removed]",
      "text/plain": [
       "<Figure size 432x288 with 1 Axes>"
      ]
     },
     "metadata": {
      "needs_background": "light"
     },
     "output_type": "display_data"
    }
   ],
   "source": [
    "plt.figure(figsize=(6,4))\n",
    "plt.axhline(y=df_sub['true_est_acc'][0], linestyle='--', color='k')\n",
    "P=[]\n",
    "for name, row in df_sub.iterrows():\n",
    "    x,y = row['N_train'], row['acc']\n",
    "    m=0 if row['arch'] == 'dense' else 1\n",
    "    c=1 if row['u_arch'] == 'film' else 2\n",
    "    P.append((x,y,m,c))\n",
    "P = np.array(P)\n",
    "plt.scatter(np.log(P[P[:,2]==0,0]), P[P[:,2]==0,1], c=P[P[:,2]==0,3], marker='^', cmap='RdYlBu')\n",
    "plt.scatter(np.log(P[P[:,2]==1,0]), P[P[:,2]==1,1], c=P[P[:,2]==1,3], marker='o', cmap='RdYlBu')\n",
    "#plt.scatter(np.log(x), y, c=c, marker=m, cmap='RdYlBu')\n",
    "plt.xlabel('Training set size')\n",
    "plt.ylabel('Accuracy')\n",
    "plt.ylim(0,1)\n",
    "#circles are all-conv, triangles are dense\n",
    "#circles are all-conv, triangles are dense\n",
    "x_dom = [500, 1000, 2000, 5000, 10000, 20000, 50000]\n",
    "plt.xticks(np.log(x_dom), x_dom);"
   ]
  },
  {
   "cell_type": "code",
   "execution_count": null,
   "metadata": {
    "collapsed": true
   },
   "outputs": [],
   "source": []
  },
  {
   "cell_type": "markdown",
   "metadata": {
    "heading_collapsed": true
   },
   "source": [
    "## df QC"
   ]
  },
  {
   "cell_type": "code",
   "execution_count": 271,
   "metadata": {
    "collapsed": true,
    "hidden": true
   },
   "outputs": [],
   "source": [
    "csv_path = '/data/vision/polina/users/clintonw/code/vision_final/results.csv'\n",
    "df = pd.read_csv(csv_path, index_col=0)"
   ]
  },
  {
   "cell_type": "code",
   "execution_count": 272,
   "metadata": {
    "collapsed": true,
    "hidden": true
   },
   "outputs": [],
   "source": [
    "len(['model_type', 'n_params', 'N_train', 'dataset', 'nU', 'context_dist', 'Y_fn', 'noise_p', 'noise_lim', 'optim', 'arch'])\n",
    "\n",
    "f = lambda x: 'cat' if 'cat' in x['model_type'] else 'film'\n",
    "df['u_arch'] = df.apply(f, axis=1)"
   ]
  },
  {
   "cell_type": "code",
   "execution_count": 273,
   "metadata": {
    "collapsed": true,
    "hidden": true
   },
   "outputs": [],
   "source": [
    "df = df[np.concatenate([df.columns[:11], df.columns[-1:], df.columns[11:-1]])]"
   ]
  },
  {
   "cell_type": "code",
   "execution_count": 156,
   "metadata": {
    "collapsed": true,
    "hidden": true
   },
   "outputs": [],
   "source": [
    "df2 = df.sort_values('timestamp', ascending=False)[['acc', 'emp_est_acc', 'N_train', 'noise_p', 'epochs', 'timestamp']]"
   ]
  },
  {
   "cell_type": "code",
   "execution_count": 160,
   "metadata": {
    "collapsed": false,
    "hidden": true
   },
   "outputs": [
    {
     "data": {
      "text/html": [
       "<div>\n",
       "<style scoped>\n",
       "    .dataframe tbody tr th:only-of-type {\n",
       "        vertical-align: middle;\n",
       "    }\n",
       "\n",
       "    .dataframe tbody tr th {\n",
       "        vertical-align: top;\n",
       "    }\n",
       "\n",
       "    .dataframe thead th {\n",
       "        text-align: right;\n",
       "    }\n",
       "</style>\n",
       "<table border=\"1\" class=\"dataframe\">\n",
       "  <thead>\n",
       "    <tr style=\"text-align: right;\">\n",
       "      <th></th>\n",
       "      <th>acc</th>\n",
       "      <th>emp_est_acc</th>\n",
       "      <th>N_train</th>\n",
       "      <th>noise_p</th>\n",
       "      <th>epochs</th>\n",
       "      <th>timestamp</th>\n",
       "    </tr>\n",
       "  </thead>\n",
       "  <tbody>\n",
       "    <tr>\n",
       "      <th>N15Kfmnist_u10_y1+1d1_n10_film_0</th>\n",
       "      <td>-1.0</td>\n",
       "      <td>0.9002</td>\n",
       "      <td>15000.0</td>\n",
       "      <td>0.1</td>\n",
       "      <td>-1.0</td>\n",
       "      <td>1.543679e+09</td>\n",
       "    </tr>\n",
       "  </tbody>\n",
       "</table>\n",
       "</div>"
      ],
      "text/plain": [
       "                                  acc  emp_est_acc  N_train  noise_p  epochs  \\\n",
       "N15Kfmnist_u10_y1+1d1_n10_film_0 -1.0       0.9002  15000.0      0.1    -1.0   \n",
       "\n",
       "                                     timestamp  \n",
       "N15Kfmnist_u10_y1+1d1_n10_film_0  1.543679e+09  "
      ]
     },
     "execution_count": 160,
     "metadata": {},
     "output_type": "execute_result"
    }
   ],
   "source": [
    "df2[df2['N_train'] == 15000]"
   ]
  },
  {
   "cell_type": "code",
   "execution_count": 274,
   "metadata": {
    "collapsed": true,
    "hidden": true
   },
   "outputs": [],
   "source": [
    "df.to_csv(csv_path)"
   ]
  },
  {
   "cell_type": "code",
   "execution_count": 110,
   "metadata": {
    "code_folding": [],
    "collapsed": true,
    "hidden": true
   },
   "outputs": [],
   "source": [
    "#df = df[df['epochs'] > 4]\n",
    "#df = df[np.concatenate([df.columns[:6], df.columns[-1:], df.columns[6:-1]])]\n",
    "df = df.drop('N60000fmnist_u10_y1+1d1_n0_0')"
   ]
  },
  {
   "cell_type": "code",
   "execution_count": 116,
   "metadata": {
    "collapsed": false,
    "hidden": true
   },
   "outputs": [],
   "source": [
    "# undo removal from df\n",
    "arg_cols = ['model_type', 'n_params', 'N_train', 'dataset', 'nU', 'context_dist', 'Y_fn', 'noise_p', 'noise_lim', 'optim', 'arch', 'lr', 'wd', 'h_dim', 'emp_est_acc', 'true_est_acc']\n",
    "result_cols = ['acc', 'true_KL', 'emp_KL', 'true_JS', 'emp_JS', 'epochs', 'timestamp']\n",
    "for fn in glob.glob('results/N60000fmnist_u10_y1+1d1_n0*.hist'):\n",
    "    hist = io.pickle_load(fn)\n",
    "    hist['acc'] = hist['val-acc'][-1]\n",
    "    if 'model_name' in hist:\n",
    "        df.loc[hist['model_name']] = [hist[k] if k in hist else -1 for k in arg_cols+result_cols]"
   ]
  },
  {
   "cell_type": "code",
   "execution_count": null,
   "metadata": {
    "collapsed": true,
    "hidden": true
   },
   "outputs": [],
   "source": []
  },
  {
   "cell_type": "code",
   "execution_count": null,
   "metadata": {
    "collapsed": true,
    "hidden": true
   },
   "outputs": [],
   "source": []
  },
  {
   "cell_type": "code",
   "execution_count": 169,
   "metadata": {
    "collapsed": false,
    "hidden": true
   },
   "outputs": [],
   "source": [
    "for fn in glob.glob('scripts/*.err'):\n",
    "    with open(fn, 'r') as f:\n",
    "        F=f.readlines()\n",
    "    if len(F)>2 and 'error' in F[-1].lower():\n",
    "        print(fn, F[-10:])"
   ]
  },
  {
   "cell_type": "code",
   "execution_count": null,
   "metadata": {
    "collapsed": true,
    "hidden": true
   },
   "outputs": [],
   "source": [
    "for fn in glob.glob('scripts/*.out'):\n",
    "    with open(fn, 'r') as f:\n",
    "        F=f.readlines()\n",
    "    if len(F) < 18:\n",
    "        print(fn, F[-10:])"
   ]
  },
  {
   "cell_type": "code",
   "execution_count": null,
   "metadata": {
    "collapsed": true,
    "hidden": true
   },
   "outputs": [],
   "source": [
    "with open('scripts/srun1.err', 'r') as f:\n",
    "    F=f.readlines()\n",
    "F[-10:]"
   ]
  },
  {
   "cell_type": "markdown",
   "metadata": {
    "heading_collapsed": true
   },
   "source": [
    "## Deterministic analysis"
   ]
  },
  {
   "cell_type": "code",
   "execution_count": 555,
   "metadata": {
    "collapsed": false,
    "hidden": true
   },
   "outputs": [
    {
     "data": {
      "text/plain": [
       "<module 'analysis' from '/data/vision/polina/users/clintonw/code/vision_final/analysis.py'>"
      ]
     },
     "execution_count": 555,
     "metadata": {},
     "output_type": "execute_result"
    }
   ],
   "source": [
    "importlib.reload(ana)"
   ]
  },
  {
   "cell_type": "code",
   "execution_count": 557,
   "metadata": {
    "collapsed": false,
    "hidden": true
   },
   "outputs": [],
   "source": [
    "ents = np.zeros((1000, 1000))\n",
    "max_x, max_y = 0,0\n",
    "for model_name, row in df.iterrows():\n",
    "    hist_path = \"history/%s.hist\" % model_name\n",
    "    if not exists(hist_path):\n",
    "        continue\n",
    "        \n",
    "    hist = io.pickle_load(hist_path)\n",
    "    if 'HU' not in hist:\n",
    "        continue\n",
    "    \n",
    "    x = int(hist['HU']*50)\n",
    "    y = int(hist['HY_Z']*50)\n",
    "    max_x = max(max_x, x)\n",
    "    max_y = max(max_y, y)\n",
    "    ents[x, y] = row['acc']"
   ]
  },
  {
   "cell_type": "code",
   "execution_count": null,
   "metadata": {
    "collapsed": true,
    "hidden": true
   },
   "outputs": [],
   "source": [
    "pd.DataFrame(columns=['HU', 'HY_Z', 'HY_ZU'])"
   ]
  },
  {
   "cell_type": "code",
   "execution_count": 558,
   "metadata": {
    "collapsed": false,
    "hidden": true
   },
   "outputs": [
    {
     "data": {
      "image/png": "[encoded data removed]",
      "text/plain": [
       "<Figure size 432x288 with 2 Axes>"
      ]
     },
     "metadata": {
      "needs_background": "light"
     },
     "output_type": "display_data"
    }
   ],
   "source": [
    "xlim = max_x//50+2\n",
    "ylim = max_y//50+2\n",
    "ana.heatmap(ents[:xlim*50, :ylim*50].transpose(1,0), sigma=15, cmap='hot_r')\n",
    "plt.xticks(np.arange(0,xlim*50, 50), range(xlim))\n",
    "plt.yticks(np.arange(0,ylim*50, 50), range(ylim))\n",
    "plt.gca().invert_yaxis()\n",
    "#plt.savefig('sample.jpg')\n",
    "#plt.close()"
   ]
  },
  {
   "cell_type": "code",
   "execution_count": null,
   "metadata": {
    "collapsed": true,
    "hidden": true
   },
   "outputs": [],
   "source": []
  },
  {
   "cell_type": "markdown",
   "metadata": {
    "heading_collapsed": true
   },
   "source": [
    "## etc"
   ]
  },
  {
   "cell_type": "code",
   "execution_count": 104,
   "metadata": {
    "collapsed": true,
    "hidden": true
   },
   "outputs": [],
   "source": [
    "args = main.get_args('')\n",
    "ent = util.get_entropy(args, nZ=10)\n",
    "ents = {k:[] for k in ent}"
   ]
  },
  {
   "cell_type": "code",
   "execution_count": 84,
   "metadata": {
    "collapsed": true,
    "hidden": true
   },
   "outputs": [],
   "source": [
    "d_ents = copy.deepcopy(ents)\n",
    "#uni_ents = copy.deepcopy(ents)"
   ]
  },
  {
   "cell_type": "code",
   "execution_count": 95,
   "metadata": {
    "collapsed": false,
    "hidden": true
   },
   "outputs": [
    {
     "data": {
      "text/plain": [
       "37"
      ]
     },
     "execution_count": 95,
     "metadata": {},
     "output_type": "execute_result"
    }
   ],
   "source": [
    "args['f'](9,nU-1)"
   ]
  },
  {
   "cell_type": "code",
   "execution_count": 120,
   "metadata": {
    "collapsed": true,
    "hidden": true
   },
   "outputs": [],
   "source": [
    "for u in range(2, 11):\n",
    "    nU = round(1.5**u)\n",
    "    args = main.get_args(['--Y_fn', '%d*%dd%d' % (1, 8, 1), '--nU', str(nU)])\n",
    "    ent = util.get_entropy(args, nZ=10)\n",
    "    for k in ent:\n",
    "        ents[k].append(ent[k])"
   ]
  },
  {
   "cell_type": "code",
   "execution_count": 80,
   "metadata": {
    "collapsed": true,
    "hidden": true
   },
   "outputs": [],
   "source": [
    "for nU in range(2, 20, 2):\n",
    "    args = main.get_args(['--outcome_fn', 'd%d' % (nU//2), '--nU', str(nU)])\n",
    "    ent = util.get_entropy(args, nZ=10)\n",
    "    for k in ent:\n",
    "        ents[k].append(ent[k])"
   ]
  },
  {
   "cell_type": "code",
   "execution_count": 77,
   "metadata": {
    "collapsed": false,
    "hidden": true
   },
   "outputs": [],
   "source": [
    "for u in range(2, 10):\n",
    "    nU = round(1.5**u)\n",
    "    args = main.get_args(['--noise', str(nU//2), '--nU', str(nU)])\n",
    "    ent = util.get_entropy(args, nZ=10)\n",
    "    for k in ent:\n",
    "        ents[k].append(ent[k])"
   ]
  },
  {
   "cell_type": "code",
   "execution_count": 121,
   "metadata": {
    "collapsed": false,
    "hidden": true
   },
   "outputs": [
    {
     "data": {
      "text/plain": [
       "Text(0,0.5,'HU')"
      ]
     },
     "execution_count": 121,
     "metadata": {},
     "output_type": "execute_result"
    },
    {
     "data": {
      "image/png": "[encoded data removed]",
      "text/plain": [
       "<Figure size 432x288 with 1 Axes>"
      ]
     },
     "metadata": {
      "needs_background": "light"
     },
     "output_type": "display_data"
    }
   ],
   "source": [
    "plt.plot(uni_ents['HY_Z'], uni_ents['HU'], 'b.')\n",
    "plt.plot(d_ents['HY_Z'], d_ents['HU'], 'r.')\n",
    "plt.plot(ents['HY_Z'], ents['HU'], 'g.')\n",
    "plt.xlabel('HY_Z')\n",
    "plt.ylabel('HU')\n",
    "#plt.xlim(0,)"
   ]
  },
  {
   "cell_type": "code",
   "execution_count": null,
   "metadata": {
    "collapsed": true,
    "hidden": true
   },
   "outputs": [],
   "source": [
    "for fn in glob.glob('history/*.ent'):\n",
    "    hist_fns = glob.glob(fn[:-5]+\"*.hist\")\n",
    "    if len(hist_fns) == 0:\n",
    "        continue\n",
    "    hist = io.pickle_load(hist_fns[0])\n",
    "    acc = hist['val-acc'][-1]\n",
    "    ent = io.pickle_load(fn)\n",
    "    model_name = basename(hist_fns[0])[:-5]\n",
    "    print(df.loc[model_name])\n",
    "    df.loc[model_name, 'acc'] = acc\n",
    "    desc = df.loc[model_name, 'model_type']\n",
    "    ds = df.loc[model_name, 'dataset']\n",
    "    xuy = np.load('data/%s/%s_val.npy' % (ds, desc))\n",
    "    emp_post = util.emp_post(xuy)\n",
    "    #true_post = util.true_post(xuy[:,:2], args['f'], noise=args['noise'])\n",
    "    pred_post, pX, pU = util.pred_post(preds, xuy[:,:2])\n",
    "    #true_KL = util.kl_div(pred_post, true_post, pX, pU)\n",
    "    emp_KL = util.kl_div(pred_post, emp_post, pX, pU)\n",
    "    #true_JS = util.js_div(pred_post, true_post, pX, pU)\n",
    "    emp_JS = util.js_div(pred_post, emp_post, pX, pU)\n",
    "    \n",
    "    df.loc[model_name, 'true_KL'] = acc\n",
    "    print(df.loc[model_name])\n",
    "    break\n",
    "    "
   ]
  }
 ],
 "metadata": {
  "anaconda-cloud": {},
  "kernelspec": {
   "display_name": "Python [conda env:clinton]",
   "language": "python",
   "name": "conda-env-clinton-py"
  },
  "language_info": {
   "codemirror_mode": {
    "name": "ipython",
    "version": 3
   },
   "file_extension": ".py",
   "mimetype": "text/x-python",
   "name": "python",
   "nbconvert_exporter": "python",
   "pygments_lexer": "ipython3",
   "version": "3.6.6"
  }
 },
 "nbformat": 4,
 "nbformat_minor": 2
}
